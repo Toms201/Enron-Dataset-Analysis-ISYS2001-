{
  "nbformat": 4,
  "nbformat_minor": 0,
  "metadata": {
    "colab": {
      "name": "ISYS2001 - Assignment Two.ipynb",
      "provenance": [],
      "authorship_tag": "ABX9TyP2cBbgtk2Rw6Nqz4waXCnG",
      "include_colab_link": true
    },
    "kernelspec": {
      "name": "python3",
      "display_name": "Python 3"
    },
    "language_info": {
      "name": "python"
    }
  },
  "cells": [
    {
      "cell_type": "markdown",
      "metadata": {
        "id": "view-in-github",
        "colab_type": "text"
      },
      "source": [
        "<a href=\"https://colab.research.google.com/github/Toms201/ISYS2001-Assignment2/blob/main/ISYS2001_Assignment_Two.ipynb\" target=\"_parent\"><img src=\"https://colab.research.google.com/assets/colab-badge.svg\" alt=\"Open In Colab\"/></a>"
      ]
    },
    {
      "cell_type": "markdown",
      "source": [
        "# ISYS2001 ENRON EMAIL ANALYSIS ASSIGNMENT\n",
        "\n",
        "---\n",
        "\n",
        "\n",
        "### Assesment Two - Notebooks as Business Reports\n",
        "### Tom Sargent 20594567\n",
        "\n",
        "NOTE: Please run the notebook scripts in order as the report is read to ensure correct data filtering and graph generation\n",
        "\n",
        "\n",
        "\n",
        "\n"
      ],
      "metadata": {
        "id": "CNvK1OK2UpOv"
      }
    },
    {
      "cell_type": "markdown",
      "source": [
        "# Introduction"
      ],
      "metadata": {
        "id": "hN_-oiqcgiWm"
      }
    },
    {
      "cell_type": "markdown",
      "source": [
        "# Analysis\n",
        "\n",
        "Within the report, we begin by analaysing the raw database of Enron reklated communications over the given data period so that we are able to determine key discussion factors.\n",
        "\n",
        "To analyse the Enron dataset we must first download the given hosted dataset into the Notebook Instance"
      ],
      "metadata": {
        "id": "g7Qn860xgkzD"
      }
    },
    {
      "cell_type": "code",
      "source": [
        "#Run the !wget function to download the database from the hosted platform. Save the database as enron.db in the colab instance machines files. \n",
        "!wget -O enron.db https://curtin-my.sharepoint.com/:u:/g/personal/211934g_curtin_edu_au/EaYagsqa2r1Bi5wtHbswGFwBH2kd2uTnz6rlka7GI36GUQ?download=1"
      ],
      "metadata": {
        "id": "dnXOnd6liFx3"
      },
      "execution_count": null,
      "outputs": []
    },
    {
      "cell_type": "markdown",
      "source": [
        "There are multiple ways that the datset can be analyses - By using SQL qurieies within python to filter and sort data, or by using the Pandas module for data analsyis. In this report I have chosen to include both.\n",
        "\n",
        "We begin by importing SQLite 3 for SQL analysis within Python. Following this I will also import Pandas (with an alias pd) and NumPy for calculations."
      ],
      "metadata": {
        "id": "u9xZaSsOiL__"
      }
    },
    {
      "cell_type": "code",
      "source": [
        "#Import SQL Lite 3\n",
        "import sqlite3\n",
        "\n",
        "#connect sqlite to database that has been created Superheroes.db\n",
        "conn = sqlite3.connect(\"enron.db\")\n",
        "\n",
        "#Create a cursor (like a row/row scanner)\n",
        "cur = conn.cursor()"
      ],
      "metadata": {
        "id": "0mk5peC0iv9N"
      },
      "execution_count": null,
      "outputs": []
    },
    {
      "cell_type": "code",
      "source": [
        "import pandas as pd\n",
        "import numpy as np"
      ],
      "metadata": {
        "id": "KKXNuLUXjANy"
      },
      "execution_count": null,
      "outputs": []
    },
    {
      "cell_type": "markdown",
      "source": [
        "# Discussion"
      ],
      "metadata": {
        "id": "i52abiYogpx5"
      }
    },
    {
      "cell_type": "markdown",
      "source": [
        "# Conclusion"
      ],
      "metadata": {
        "id": "tOohPvqchI9T"
      }
    },
    {
      "cell_type": "markdown",
      "source": [
        "# References"
      ],
      "metadata": {
        "id": "uWMx4ZeehLlY"
      }
    },
    {
      "cell_type": "code",
      "source": [
        ""
      ],
      "metadata": {
        "id": "7ZC35KiTgoze"
      },
      "execution_count": null,
      "outputs": []
    }
  ]
}