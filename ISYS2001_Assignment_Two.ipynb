{
  "nbformat": 4,
  "nbformat_minor": 0,
  "metadata": {
    "colab": {
      "name": "ISYS2001 - Assignment Two.ipynb",
      "provenance": [],
      "authorship_tag": "ABX9TyOBpMNcpKKqDR51M1KjTNCk",
      "include_colab_link": true
    },
    "kernelspec": {
      "name": "python3",
      "display_name": "Python 3"
    },
    "language_info": {
      "name": "python"
    }
  },
  "cells": [
    {
      "cell_type": "markdown",
      "metadata": {
        "id": "view-in-github",
        "colab_type": "text"
      },
      "source": [
        "<a href=\"https://colab.research.google.com/github/Toms201/ISYS2001-Assignment2/blob/main/ISYS2001_Assignment_Two.ipynb\" target=\"_parent\"><img src=\"https://colab.research.google.com/assets/colab-badge.svg\" alt=\"Open In Colab\"/></a>"
      ]
    },
    {
      "cell_type": "markdown",
      "source": [
        "# ISYS2001 ENRON EMAIL ANALYSIS ASSIGNMENT\n",
        "\n",
        "---\n",
        "\n",
        "\n",
        "### Assesment Two - Notebooks as Business Reports\n",
        "### Tom Sargent 20594567\n",
        "\n",
        "NOTE: Please run the notebook scripts in order as the report is read to ensure correct data filtering and graph generation\n",
        "\n",
        "\n",
        "\n",
        "\n"
      ],
      "metadata": {
        "id": "CNvK1OK2UpOv"
      }
    },
    {
      "cell_type": "markdown",
      "source": [
        "# Introduction"
      ],
      "metadata": {
        "id": "hN_-oiqcgiWm"
      }
    },
    {
      "cell_type": "markdown",
      "source": [
        "# Analysis\n",
        "\n",
        "Within the report, we begin by analaysing the raw database of Enron reklated communications over the given data period so that we are able to determine key discussion factors.\n",
        "\n",
        "To analyse the Enron dataset we must first download the given hosted dataset into the Notebook Instance"
      ],
      "metadata": {
        "id": "g7Qn860xgkzD"
      }
    },
    {
      "cell_type": "code",
      "source": [
        "#Run the !wget function to download the database from the hosted platform. Save the database as enron.db in the colab instance machines files. \n",
        "!wget -O enron.db https://curtin-my.sharepoint.com/:u:/g/personal/211934g_curtin_edu_au/EaYagsqa2r1Bi5wtHbswGFwBH2kd2uTnz6rlka7GI36GUQ?download=1"
      ],
      "metadata": {
        "colab": {
          "base_uri": "https://localhost:8080/"
        },
        "id": "dnXOnd6liFx3",
        "outputId": "a6732617-c852-48a4-8c48-e1d9d2865203"
      },
      "execution_count": 1,
      "outputs": [
        {
          "output_type": "stream",
          "name": "stdout",
          "text": [
            "--2022-05-11 05:27:51--  https://curtin-my.sharepoint.com/:u:/g/personal/211934g_curtin_edu_au/EaYagsqa2r1Bi5wtHbswGFwBH2kd2uTnz6rlka7GI36GUQ?download=1\n",
            "Resolving curtin-my.sharepoint.com (curtin-my.sharepoint.com)... 13.107.136.9, 13.107.138.9\n",
            "Connecting to curtin-my.sharepoint.com (curtin-my.sharepoint.com)|13.107.136.9|:443... connected.\n",
            "HTTP request sent, awaiting response... 302 Found\n",
            "Location: /personal/211934g_curtin_edu_au/Documents/ISYS2001-Assignment-2-Data/enron_sqlite3.db?ga=1 [following]\n",
            "--2022-05-11 05:27:52--  https://curtin-my.sharepoint.com/personal/211934g_curtin_edu_au/Documents/ISYS2001-Assignment-2-Data/enron_sqlite3.db?ga=1\n",
            "Reusing existing connection to curtin-my.sharepoint.com:443.\n",
            "HTTP request sent, awaiting response... 200 OK\n",
            "Length: 853819392 (814M) [application/octet-stream]\n",
            "Saving to: ‘enron.db’\n",
            "\n",
            "enron.db            100%[===================>] 814.27M  42.7MB/s    in 23s     \n",
            "\n",
            "2022-05-11 05:28:16 (34.7 MB/s) - ‘enron.db’ saved [853819392/853819392]\n",
            "\n"
          ]
        }
      ]
    },
    {
      "cell_type": "markdown",
      "source": [
        "There are multiple ways that the datset can be analyses - By using SQL qurieies within python to filter and sort data, or by using the Pandas module for data analsyis. In this report I have chosen to include both.\n",
        "\n",
        "We begin by importing SQLite 3 for SQL analysis within Python. Following this I will also import Pandas (with an alias pd) and NumPy for calculations."
      ],
      "metadata": {
        "id": "u9xZaSsOiL__"
      }
    },
    {
      "cell_type": "code",
      "source": [
        "#Import SQL Lite 3\n",
        "import sqlite3\n",
        "\n",
        "#connect sqlite to database that has been created Superheroes.db\n",
        "conn = sqlite3.connect(\"enron.db\")\n",
        "\n",
        "#Create a cursor (like a row/row scanner)\n",
        "cur = conn.cursor()"
      ],
      "metadata": {
        "id": "0mk5peC0iv9N"
      },
      "execution_count": 2,
      "outputs": []
    },
    {
      "cell_type": "code",
      "source": [
        "import pandas as pd\n",
        "import matplotlib.pyplot as plt\n",
        "import numpy as np"
      ],
      "metadata": {
        "id": "KKXNuLUXjANy"
      },
      "execution_count": 11,
      "outputs": []
    },
    {
      "cell_type": "markdown",
      "source": [
        "To test that the import of the data was correct, and that the import of the sqlite3 module was sucessfull, I ran the following cell to check the avaliable tables."
      ],
      "metadata": {
        "id": "pPm-L1LUjj7_"
      }
    },
    {
      "cell_type": "code",
      "source": [
        "# Using SQL display the Name of a Table within the database\n",
        "sql='''\n",
        "SELECT name FROM sqlite_master WHERE type='table';\n",
        "'''\n",
        "cur.execute(sql)\n",
        "cur.fetchall()"
      ],
      "metadata": {
        "colab": {
          "base_uri": "https://localhost:8080/"
        },
        "id": "G45K-4PvjvIj",
        "outputId": "c16505a1-79e6-4436-c679-afb8ef0b968c"
      },
      "execution_count": 4,
      "outputs": [
        {
          "output_type": "execute_result",
          "data": {
            "text/plain": [
              "[('employeelist',), ('message',), ('recipientinfo',), ('referenceinfo',)]"
            ]
          },
          "metadata": {},
          "execution_count": 4
        }
      ]
    },
    {
      "cell_type": "markdown",
      "source": [
        "## Analysing Email Traffic By Address"
      ],
      "metadata": {
        "id": "55CB9ZTyj0ut"
      }
    },
    {
      "cell_type": "markdown",
      "source": [
        "To begin, I thought it would be ideal to identify the data that would be required to find:\n",
        "\n",
        "> Who are the top 10 emailers of the organisation.\n",
        "\n",
        "For this we need to locate\n",
        "1. The table that contains the record of all messages sent/recivied.\n",
        "2. The Emails that messages are sent from/recieve messages.\n",
        "3. A count of the occurances of email adresses by entry.\n",
        "\n",
        "For this I decided to use Pandas to load the data into a dataframe"
      ],
      "metadata": {
        "id": "8EcCFsUHkPfL"
      }
    },
    {
      "cell_type": "code",
      "source": [
        "# Select all data from the table 'messages' using SQL\n",
        "sql='''\n",
        "SELECT * from message;\n",
        "'''\n",
        "# Load the data into a DataFrame names dfmessages\n",
        "dfmessages = pd.read_sql_query(sql, conn)\n",
        "dfmessages\n",
        "\n",
        "#Count 10 times (for top 10)\n",
        "n = 10\n",
        "\n",
        "#In the dataframe dfmessages find the top count of values in the sender column and complete 'n' times\n",
        "dfmessages['sender'].value_counts().index.tolist()[:n]"
      ],
      "metadata": {
        "colab": {
          "base_uri": "https://localhost:8080/"
        },
        "id": "m_BJPvx-j0Dm",
        "outputId": "25695845-308e-457c-cfbb-a1a6c4f495b7"
      },
      "execution_count": 5,
      "outputs": [
        {
          "output_type": "execute_result",
          "data": {
            "text/plain": [
              "['jeff.dasovich@enron.com',\n",
              " 'j.kaminski@enron.com',\n",
              " 'kay.mann@enron.com',\n",
              " 'sara.shackleton@enron.com',\n",
              " 'tana.jones@enron.com',\n",
              " 'chris.germany@enron.com',\n",
              " 'no.address@enron.com',\n",
              " 'enron.announcements@enron.com',\n",
              " 'matthew.lenhart@enron.com',\n",
              " 'debra.perlingiere@enron.com']"
            ]
          },
          "metadata": {},
          "execution_count": 5
        }
      ]
    },
    {
      "cell_type": "markdown",
      "source": [
        "Now we can confirm that the above emails are the top 10 emailers of the organisation, however, the data does not display how many emails each send."
      ],
      "metadata": {
        "id": "qbsaGyZel4Cp"
      }
    },
    {
      "cell_type": "code",
      "source": [
        "# in the datataframe defined, within the column 'sender' count the top 10 occurances\n",
        "dfmessages['sender'].value_counts()[:10]"
      ],
      "metadata": {
        "colab": {
          "base_uri": "https://localhost:8080/"
        },
        "id": "IINIhvH-mCzY",
        "outputId": "1467574c-1671-41a3-b763-74b51311eb11"
      },
      "execution_count": 7,
      "outputs": [
        {
          "output_type": "execute_result",
          "data": {
            "text/plain": [
              "jeff.dasovich@enron.com          6273\n",
              "j.kaminski@enron.com             5838\n",
              "kay.mann@enron.com               5100\n",
              "sara.shackleton@enron.com        4797\n",
              "tana.jones@enron.com             4437\n",
              "chris.germany@enron.com          3686\n",
              "no.address@enron.com             3511\n",
              "enron.announcements@enron.com    2838\n",
              "matthew.lenhart@enron.com        2784\n",
              "debra.perlingiere@enron.com      2549\n",
              "Name: sender, dtype: int64"
            ]
          },
          "metadata": {},
          "execution_count": 7
        }
      ]
    },
    {
      "cell_type": "markdown",
      "source": [
        "Now that a list exists, and the corect data can be confirmed, we need to create a plot that can be included in the discussion. Using the 'barh' style of graph we can easially see the y axis labels horizontially, rather than having to rotate x axis emails."
      ],
      "metadata": {
        "id": "lnAmUcwsmUki"
      }
    },
    {
      "cell_type": "code",
      "source": [
        "# As a bar histogram, plot the top 10 occurances in the sender column of the dfmessages dataframe\n",
        "plot1 = dfmessages['sender'].value_counts()[:10].plot(kind='barh')\n",
        "# Change x-axis label to \"Emails Recorded (Sent/Recieved)\"\n",
        "plt.xlabel(\"Emails Recorded (Sent/Recieved)\")\n",
        "# Change y-axis label to \"Involved Email Address\"\n",
        "plt.ylabel(\"Involved Email Address\")\n",
        "# Change the Plot title to \"Top 10 Emailers At Enron\"\n",
        "plt.title(\"Top 10 Emailers At Enron\")\n"
      ],
      "metadata": {
        "colab": {
          "base_uri": "https://localhost:8080/",
          "height": 313
        },
        "id": "IrTcPigWmgKk",
        "outputId": "0590cc13-8932-44b3-f518-17b2f4cdf237"
      },
      "execution_count": 24,
      "outputs": [
        {
          "output_type": "execute_result",
          "data": {
            "text/plain": [
              "Text(0.5, 1.0, 'Top 10 Emailers At Enron')"
            ]
          },
          "metadata": {},
          "execution_count": 24
        },
        {
          "output_type": "display_data",
          "data": {
            "text/plain": [
              "<Figure size 432x288 with 1 Axes>"
            ],
            "image/png": "[encoded data removed]"
          },
          "metadata": {
            "needs_background": "light"
          }
        }
      ]
    },
    {
      "cell_type": "markdown",
      "source": [
        "## Analysing Email traffic By Date\n",
        "Following analysing the email adresses which sent and recieved the most emails from Enron, we must now investigate the dates which had the most email traffic, sent or recived."
      ],
      "metadata": {
        "id": "Omd6sccDpe3d"
      }
    },
    {
      "cell_type": "markdown",
      "source": [
        "# Discussion"
      ],
      "metadata": {
        "id": "i52abiYogpx5"
      }
    },
    {
      "cell_type": "markdown",
      "source": [
        "# Conclusion"
      ],
      "metadata": {
        "id": "tOohPvqchI9T"
      }
    },
    {
      "cell_type": "markdown",
      "source": [
        "# References"
      ],
      "metadata": {
        "id": "uWMx4ZeehLlY"
      }
    },
    {
      "cell_type": "code",
      "source": [
        ""
      ],
      "metadata": {
        "id": "7ZC35KiTgoze"
      },
      "execution_count": null,
      "outputs": []
    }
  ]
}