{
  "nbformat": 4,
  "nbformat_minor": 0,
  "metadata": {
    "colab": {
      "name": "ISYS2001 - Assignment Two.ipynb",
      "provenance": [],
      "authorship_tag": "ABX9TyP8haDvLvSJ5UYZV3OyhSyq",
      "include_colab_link": true
    },
    "kernelspec": {
      "name": "python3",
      "display_name": "Python 3"
    },
    "language_info": {
      "name": "python"
    }
  },
  "cells": [
    {
      "cell_type": "markdown",
      "metadata": {
        "id": "view-in-github",
        "colab_type": "text"
      },
      "source": [
        "<a href=\"https://colab.research.google.com/github/Toms201/ISYS2001-Assignment2/blob/main/ISYS2001_Assignment_Two.ipynb\" target=\"_parent\"><img src=\"https://colab.research.google.com/assets/colab-badge.svg\" alt=\"Open In Colab\"/></a>"
      ]
    },
    {
      "cell_type": "markdown",
      "source": [
        "# ISYS2001 ENRON EMAIL ANALYSIS ASSIGNMENT\n",
        "\n",
        "---\n",
        "\n",
        "\n",
        "### Assesment Two - Notebooks as Business Reports\n",
        "### Tom Sargent 20594567\n",
        "\n",
        "NOTE: Please run the notebook scripts in order as the report is read to ensure correct data filtering and graph generation\n",
        "\n",
        "\n",
        "\n",
        "\n"
      ],
      "metadata": {
        "id": "CNvK1OK2UpOv"
      }
    },
    {
      "cell_type": "markdown",
      "source": [
        "# Introduction\n",
        "Enron Corporation, a significant energy, commodities, and services firm established in the United States, was discovered in early 2004 for fraud, less than 30 years after its launch in 1985. Enron's leadership deceived authorities by employing special purpose vehicles (SPVs) and special purpose entities (SPEs) to disguise its mountains of debt and hazardous assets from investors and creditors. \n",
        "\n",
        "The Enron Corporation narrative illustrates a firm that rose to industry leading heights only to plummet. Thousands of employees were impacted by the fated company's demise, which shocked Wall Street to its core. Enron's stock peaked at $90.75, and it was trading at $0.26 immediately before declaring bankruptcy on December 2, 2001.\n",
        "\n",
        "This Business Reprot aims at determining the Top Emailers at Enron during the time of question between 1990 and 2002, as well as the dates with the highest email volume within the company using Python Analysis. From the released dataset of Enron company email traffic we can analysse email frequency and occuraces to depict a narrative of the communication within the Company."
      ],
      "metadata": {
        "id": "hN_-oiqcgiWm"
      }
    },
    {
      "cell_type": "markdown",
      "source": [
        "# Analysis\n",
        "\n",
        "Within the report, we begin by analaysing the raw database of Enron related communications over the given data period so that we are able to determine key discussion factors.\n",
        "\n",
        "To analyse the Enron dataset we must first download the given hosted dataset into the Notebook Instance"
      ],
      "metadata": {
        "id": "g7Qn860xgkzD"
      }
    },
    {
      "cell_type": "markdown",
      "source": [
        "##Setup Code"
      ],
      "metadata": {
        "id": "OBBq6Z9DNxr-"
      }
    },
    {
      "cell_type": "code",
      "source": [
        "#Run the !wget function to download the database from the hosted platform. Save the database as enron.db in the colab instance machines files. \n",
        "!wget -O enron.db https://curtin-my.sharepoint.com/:u:/g/personal/211934g_curtin_edu_au/EaYagsqa2r1Bi5wtHbswGFwBH2kd2uTnz6rlka7GI36GUQ?download=1"
      ],
      "metadata": {
        "colab": {
          "base_uri": "https://localhost:8080/"
        },
        "id": "dnXOnd6liFx3",
        "outputId": "35580fc1-55d2-4bc1-9181-dc266fcc08ba"
      },
      "execution_count": 1,
      "outputs": [
        {
          "output_type": "stream",
          "name": "stdout",
          "text": [
            "--2022-05-15 00:12:51--  https://curtin-my.sharepoint.com/:u:/g/personal/211934g_curtin_edu_au/EaYagsqa2r1Bi5wtHbswGFwBH2kd2uTnz6rlka7GI36GUQ?download=1\n",
            "Resolving curtin-my.sharepoint.com (curtin-my.sharepoint.com)... 13.107.136.9, 13.107.138.9\n",
            "Connecting to curtin-my.sharepoint.com (curtin-my.sharepoint.com)|13.107.136.9|:443... connected.\n",
            "HTTP request sent, awaiting response... 302 Found\n",
            "Location: /personal/211934g_curtin_edu_au/Documents/ISYS2001-Assignment-2-Data/enron_sqlite3.db?ga=1 [following]\n",
            "--2022-05-15 00:12:52--  https://curtin-my.sharepoint.com/personal/211934g_curtin_edu_au/Documents/ISYS2001-Assignment-2-Data/enron_sqlite3.db?ga=1\n",
            "Reusing existing connection to curtin-my.sharepoint.com:443.\n",
            "HTTP request sent, awaiting response... 200 OK\n",
            "Length: 853819392 (814M) [application/octet-stream]\n",
            "Saving to: ‘enron.db’\n",
            "\n",
            "enron.db            100%[===================>] 814.27M  34.6MB/s    in 26s     \n",
            "\n",
            "2022-05-15 00:13:19 (31.7 MB/s) - ‘enron.db’ saved [853819392/853819392]\n",
            "\n"
          ]
        }
      ]
    },
    {
      "cell_type": "markdown",
      "source": [
        "There are multiple ways that the datset can be analyses - By using SQL qurieies within python to filter and sort data, or by using the Pandas module for data analsyis. In this report I have chosen to include both.\n",
        "\n",
        "We begin by importing SQLite 3 for SQL analysis within Python. Following this I will also import Pandas (with an alias pd) and NumPy for calculations."
      ],
      "metadata": {
        "id": "u9xZaSsOiL__"
      }
    },
    {
      "cell_type": "code",
      "source": [
        "#Import SQL Lite 3\n",
        "import sqlite3\n",
        "\n",
        "#connect sqlite to database that has been created Superheroes.db\n",
        "conn = sqlite3.connect(\"enron.db\")\n",
        "\n",
        "#Create a cursor (like a row/row scanner)\n",
        "cur = conn.cursor()"
      ],
      "metadata": {
        "id": "0mk5peC0iv9N"
      },
      "execution_count": 2,
      "outputs": []
    },
    {
      "cell_type": "code",
      "source": [
        "import pandas as pd\n",
        "import matplotlib.pyplot as plt\n",
        "import numpy as np\n",
        "from PIL import Image"
      ],
      "metadata": {
        "id": "KKXNuLUXjANy"
      },
      "execution_count": 53,
      "outputs": []
    },
    {
      "cell_type": "markdown",
      "source": [
        "To test that the import of the data was correct, and that the import of the sqlite3 module was sucessfull, I ran the following cell to check the avaliable tables."
      ],
      "metadata": {
        "id": "pPm-L1LUjj7_"
      }
    },
    {
      "cell_type": "code",
      "source": [
        "# Using SQL display the Name of a Table within the database\n",
        "sql='''\n",
        "SELECT name FROM sqlite_master WHERE type='table';\n",
        "'''\n",
        "cur.execute(sql)\n",
        "cur.fetchall()"
      ],
      "metadata": {
        "colab": {
          "base_uri": "https://localhost:8080/"
        },
        "id": "G45K-4PvjvIj",
        "outputId": "181d6a70-6465-40c7-cc50-b28fda79fdb8"
      },
      "execution_count": 4,
      "outputs": [
        {
          "output_type": "execute_result",
          "data": {
            "text/plain": [
              "[('employeelist',), ('message',), ('recipientinfo',), ('referenceinfo',)]"
            ]
          },
          "metadata": {},
          "execution_count": 4
        }
      ]
    },
    {
      "cell_type": "markdown",
      "source": [
        "## Analysing Email Traffic By Address\n",
        "Now that the database has been established, and relevant analysis packages imported, we can beging analysing the raw Database"
      ],
      "metadata": {
        "id": "55CB9ZTyj0ut"
      }
    },
    {
      "cell_type": "markdown",
      "source": [
        "To begin, I thought it would be ideal to identify the data that would be required to find:\n",
        "\n",
        "> Who are the top 10 emailers of the organisation.\n",
        "\n",
        "For this we need to locate\n",
        "1. The table that contains the record of all messages sent/recivied.\n",
        "2. The Emails that messages are sent from/recieve messages.\n",
        "3. A count of the occurances of email adresses by entry.\n",
        "\n",
        "For this I decided to use Pandas to load the data into a dataframe"
      ],
      "metadata": {
        "id": "8EcCFsUHkPfL"
      }
    },
    {
      "cell_type": "code",
      "source": [
        "# Select all data from the table 'messages' using SQL\n",
        "sql='''\n",
        "SELECT * from message;\n",
        "'''\n",
        "# Load the data into a DataFrame names dfmessages\n",
        "dfmessages = pd.read_sql_query(sql, conn)\n",
        "dfmessages\n",
        "\n",
        "#Count 10 times (for top 10)\n",
        "n = 10\n",
        "\n",
        "#In the dataframe dfmessages find the top count of values in the sender column and complete 'n' times\n",
        "dfmessages['sender'].value_counts().index.tolist()[:n]"
      ],
      "metadata": {
        "colab": {
          "base_uri": "https://localhost:8080/"
        },
        "id": "m_BJPvx-j0Dm",
        "outputId": "59c80c4a-b306-414f-dbff-cc1da753d274"
      },
      "execution_count": 5,
      "outputs": [
        {
          "output_type": "execute_result",
          "data": {
            "text/plain": [
              "['jeff.dasovich@enron.com',\n",
              " 'j.kaminski@enron.com',\n",
              " 'kay.mann@enron.com',\n",
              " 'sara.shackleton@enron.com',\n",
              " 'tana.jones@enron.com',\n",
              " 'chris.germany@enron.com',\n",
              " 'no.address@enron.com',\n",
              " 'enron.announcements@enron.com',\n",
              " 'matthew.lenhart@enron.com',\n",
              " 'debra.perlingiere@enron.com']"
            ]
          },
          "metadata": {},
          "execution_count": 5
        }
      ]
    },
    {
      "cell_type": "markdown",
      "source": [
        "Now we can confirm that the above emails are the top 10 emailers of the organisation, however, the data does not display how many emails each send."
      ],
      "metadata": {
        "id": "qbsaGyZel4Cp"
      }
    },
    {
      "cell_type": "code",
      "source": [
        "# in the datataframe defined, within the column 'sender' count the top 10 occurances\n",
        "dfmessages['sender'].value_counts()[:10]"
      ],
      "metadata": {
        "colab": {
          "base_uri": "https://localhost:8080/"
        },
        "id": "IINIhvH-mCzY",
        "outputId": "d59d20ec-d778-4c78-95d7-4ad99d2e8d9f"
      },
      "execution_count": 6,
      "outputs": [
        {
          "output_type": "execute_result",
          "data": {
            "text/plain": [
              "jeff.dasovich@enron.com          6273\n",
              "j.kaminski@enron.com             5838\n",
              "kay.mann@enron.com               5100\n",
              "sara.shackleton@enron.com        4797\n",
              "tana.jones@enron.com             4437\n",
              "chris.germany@enron.com          3686\n",
              "no.address@enron.com             3511\n",
              "enron.announcements@enron.com    2838\n",
              "matthew.lenhart@enron.com        2784\n",
              "debra.perlingiere@enron.com      2549\n",
              "Name: sender, dtype: int64"
            ]
          },
          "metadata": {},
          "execution_count": 6
        }
      ]
    },
    {
      "cell_type": "markdown",
      "source": [
        "Now that a list exists, and the corect data can be confirmed, we need to create a plot that can be included in the discussion. Using the 'barh' style of graph we can easially see the y axis labels horizontially, rather than having to rotate x axis emails."
      ],
      "metadata": {
        "id": "lnAmUcwsmUki"
      }
    },
    {
      "cell_type": "code",
      "source": [
        "# As a bar histogram, plot the top 10 occurances in the sender column of the dfmessages dataframe\n",
        "plot1 = dfmessages['sender'].value_counts()[:10].plot(kind='barh')\n",
        "# Change x-axis label to \"Emails Recorded (Sent/Recieved)\"\n",
        "plt.xlabel(\"Emails Recorded (Sent/Recieved)\")\n",
        "# Change y-axis label to \"Involved Email Address\"\n",
        "plt.ylabel(\"Involved Email Address\")\n",
        "# Change the Plot title to \"Top 10 Emailers At Enron\"\n",
        "plt.title(\"Top 10 Emailers At Enron\")\n"
      ],
      "metadata": {
        "colab": {
          "base_uri": "https://localhost:8080/",
          "height": 313
        },
        "id": "IrTcPigWmgKk",
        "outputId": "188ab47d-7931-4831-c450-57d40f4c342e"
      },
      "execution_count": 7,
      "outputs": [
        {
          "output_type": "execute_result",
          "data": {
            "text/plain": [
              "Text(0.5, 1.0, 'Top 10 Emailers At Enron')"
            ]
          },
          "metadata": {},
          "execution_count": 7
        },
        {
          "output_type": "display_data",
          "data": {
            "text/plain": [
              "<Figure size 432x288 with 1 Axes>"
            ],
            "image/png": "[encoded data removed]"
          },
          "metadata": {
            "needs_background": "light"
          }
        }
      ]
    },
    {
      "cell_type": "markdown",
      "source": [
        "## Analysing Email traffic By Date\n",
        "Following analysing the email adresses which sent and recieved the most emails from Enron, we must now investigate the dates which had the most email traffic, sent or recived."
      ],
      "metadata": {
        "id": "Omd6sccDpe3d"
      }
    },
    {
      "cell_type": "code",
      "source": [
        "#Create a dataframe in Pandas from the messages table isolated by SQL previousley\n",
        "df = pd.DataFrame(dfmessages)\n",
        "# Define a start an end date for the period of analysis\n",
        "start_date = '1999-01-01'\n",
        "end_date = '2003-01-01'\n",
        "# Select DataFrame rows between two dates\n",
        "mask = (dfmessages['date'] > start_date) & (dfmessages['date'] <= end_date)\n",
        "df2 = df.loc[mask]\n",
        "# Print/Display df2 to check the date filter has worked.\n",
        "df2"
      ],
      "metadata": {
        "colab": {
          "base_uri": "https://localhost:8080/",
          "height": 832
        },
        "id": "ooh-KiaEs_2l",
        "outputId": "c8c83672-9c16-45d5-9b25-f2d26ef80567"
      },
      "execution_count": 21,
      "outputs": [
        {
          "output_type": "execute_result",
          "data": {
            "text/plain": [
              "           mid                     sender                 date  \\\n",
              "0           52    press.release@enron.com  2000-01-21 04:51:00   \n",
              "1           53  office.chairman@enron.com  2000-01-24 01:37:00   \n",
              "2           54  office.chairman@enron.com  2000-01-24 02:06:00   \n",
              "3           55    press.release@enron.com  2000-02-02 10:21:00   \n",
              "4           56  office.chairman@enron.com  2000-02-07 22:16:00   \n",
              "...        ...                        ...                  ...   \n",
              "252754  404923    karen.buckley@enron.com  2002-02-06 16:51:29   \n",
              "252755  404924    karen.buckley@enron.com  2002-02-06 17:17:39   \n",
              "252756  404925       liz.taylor@enron.com  2002-02-06 20:09:37   \n",
              "252757  404926       pete.davis@enron.com  2002-02-07 04:38:13   \n",
              "252758  404927       pete.davis@enron.com  2002-02-07 05:38:14   \n",
              "\n",
              "                                           message_id  \\\n",
              "0       <12435833.1075863606729.JavaMail.evans@thyme>   \n",
              "1       <29664079.1075863606676.JavaMail.evans@thyme>   \n",
              "2       <15300605.1075863606629.JavaMail.evans@thyme>   \n",
              "3       <10522232.1075863606538.JavaMail.evans@thyme>   \n",
              "4       <16056123.1075863606515.JavaMail.evans@thyme>   \n",
              "...                                               ...   \n",
              "252754  <16183734.1075840015218.JavaMail.evans@thyme>   \n",
              "252755  <28117049.1075840015191.JavaMail.evans@thyme>   \n",
              "252756  <32633742.1075840015168.JavaMail.evans@thyme>   \n",
              "252757  <17912146.1075840015125.JavaMail.evans@thyme>   \n",
              "252758  <16703414.1075840015101.JavaMail.evans@thyme>   \n",
              "\n",
              "                                                  subject  \\\n",
              "0       ENRON HOSTS ANNUAL ANALYST CONFERENCE PROVIDES...   \n",
              "1                         Over $50 -- You made it happen!   \n",
              "2                         Over $50 -- You made it happen!   \n",
              "3       ROAD-SHOW.COM Q4i.COM CHOOSE ENRON TO DELIVER ...   \n",
              "4                            Fortune Most Admired Ranking   \n",
              "...                                                   ...   \n",
              "252754                   URGENT - NEED CONFIRMATION TODAY   \n",
              "252755                                                      \n",
              "252756  Trader Presentations - 2/7 @ 2:30 p.m. (CST) i...   \n",
              "252757             Start Date: 2/7/02; HourAhead hour: 3;   \n",
              "252758             Start Date: 2/7/02; HourAhead hour: 4;   \n",
              "\n",
              "                                                     body  \\\n",
              "0       HOUSTON - Enron Corp. hosted its annual equity...   \n",
              "1       On Wall Street, people are talking about Enron...   \n",
              "2       On Wall Street, people are talking about Enron...   \n",
              "3       HOUSTON =01) Enron Broadband Services (EBS), a...   \n",
              "4       Congratulations!  For an unprecedented five ye...   \n",
              "...                                                   ...   \n",
              "252754  X-FileName: Pls confirm at what location (i.e ...   \n",
              "252755  X-FileName: Craig - I need the date and locati...   \n",
              "252756  X-FileName:      There will be two presentatio...   \n",
              "252757  X-FileName: Start Date: 2/7/02; HourAhead hour...   \n",
              "252758  X-FileName: Start Date: 2/7/02; HourAhead hour...   \n",
              "\n",
              "                                                  folder  \n",
              "0       Robert_Badeer_Aug2000Notes FoldersPress releases  \n",
              "1       Robert_Badeer_Aug2000Notes FoldersPress releases  \n",
              "2       Robert_Badeer_Aug2000Notes FoldersPress releases  \n",
              "3       Robert_Badeer_Aug2000Notes FoldersPress releases  \n",
              "4       Robert_Badeer_Aug2000Notes FoldersPress releases  \n",
              "...                                                  ...  \n",
              "252754                        ExMerge - Dean, CraigInbox  \n",
              "252755                        ExMerge - Dean, CraigInbox  \n",
              "252756                        ExMerge - Dean, CraigInbox  \n",
              "252757                        ExMerge - Dean, CraigInbox  \n",
              "252758                        ExMerge - Dean, CraigInbox  \n",
              "\n",
              "[252349 rows x 7 columns]"
            ],
            "text/html": [
              "\n",
              "  <div id=\"df-ffdd8553-7d8e-4875-b593-609232e1e7b1\">\n",
              "    <div class=\"colab-df-container\">\n",
              "      <div>\n",
              "<style scoped>\n",
              "    .dataframe tbody tr th:only-of-type {\n",
              "        vertical-align: middle;\n",
              "    }\n",
              "\n",
              "    .dataframe tbody tr th {\n",
              "        vertical-align: top;\n",
              "    }\n",
              "\n",
              "    .dataframe thead th {\n",
              "        text-align: right;\n",
              "    }\n",
              "</style>\n",
              "<table border=\"1\" class=\"dataframe\">\n",
              "  <thead>\n",
              "    <tr style=\"text-align: right;\">\n",
              "      <th></th>\n",
              "      <th>mid</th>\n",
              "      <th>sender</th>\n",
              "      <th>date</th>\n",
              "      <th>message_id</th>\n",
              "      <th>subject</th>\n",
              "      <th>body</th>\n",
              "      <th>folder</th>\n",
              "    </tr>\n",
              "  </thead>\n",
              "  <tbody>\n",
              "    <tr>\n",
              "      <th>0</th>\n",
              "      <td>52</td>\n",
              "      <td>press.release@enron.com</td>\n",
              "      <td>2000-01-21 04:51:00</td>\n",
              "      <td>&lt;12435833.1075863606729.JavaMail.evans@thyme&gt;</td>\n",
              "      <td>ENRON HOSTS ANNUAL ANALYST CONFERENCE PROVIDES...</td>\n",
              "      <td>HOUSTON - Enron Corp. hosted its annual equity...</td>\n",
              "      <td>Robert_Badeer_Aug2000Notes FoldersPress releases</td>\n",
              "    </tr>\n",
              "    <tr>\n",
              "      <th>1</th>\n",
              "      <td>53</td>\n",
              "      <td>office.chairman@enron.com</td>\n",
              "      <td>2000-01-24 01:37:00</td>\n",
              "      <td>&lt;29664079.1075863606676.JavaMail.evans@thyme&gt;</td>\n",
              "      <td>Over $50 -- You made it happen!</td>\n",
              "      <td>On Wall Street, people are talking about Enron...</td>\n",
              "      <td>Robert_Badeer_Aug2000Notes FoldersPress releases</td>\n",
              "    </tr>\n",
              "    <tr>\n",
              "      <th>2</th>\n",
              "      <td>54</td>\n",
              "      <td>office.chairman@enron.com</td>\n",
              "      <td>2000-01-24 02:06:00</td>\n",
              "      <td>&lt;15300605.1075863606629.JavaMail.evans@thyme&gt;</td>\n",
              "      <td>Over $50 -- You made it happen!</td>\n",
              "      <td>On Wall Street, people are talking about Enron...</td>\n",
              "      <td>Robert_Badeer_Aug2000Notes FoldersPress releases</td>\n",
              "    </tr>\n",
              "    <tr>\n",
              "      <th>3</th>\n",
              "      <td>55</td>\n",
              "      <td>press.release@enron.com</td>\n",
              "      <td>2000-02-02 10:21:00</td>\n",
              "      <td>&lt;10522232.1075863606538.JavaMail.evans@thyme&gt;</td>\n",
              "      <td>ROAD-SHOW.COM Q4i.COM CHOOSE ENRON TO DELIVER ...</td>\n",
              "      <td>HOUSTON =01) Enron Broadband Services (EBS), a...</td>\n",
              "      <td>Robert_Badeer_Aug2000Notes FoldersPress releases</td>\n",
              "    </tr>\n",
              "    <tr>\n",
              "      <th>4</th>\n",
              "      <td>56</td>\n",
              "      <td>office.chairman@enron.com</td>\n",
              "      <td>2000-02-07 22:16:00</td>\n",
              "      <td>&lt;16056123.1075863606515.JavaMail.evans@thyme&gt;</td>\n",
              "      <td>Fortune Most Admired Ranking</td>\n",
              "      <td>Congratulations!  For an unprecedented five ye...</td>\n",
              "      <td>Robert_Badeer_Aug2000Notes FoldersPress releases</td>\n",
              "    </tr>\n",
              "    <tr>\n",
              "      <th>...</th>\n",
              "      <td>...</td>\n",
              "      <td>...</td>\n",
              "      <td>...</td>\n",
              "      <td>...</td>\n",
              "      <td>...</td>\n",
              "      <td>...</td>\n",
              "      <td>...</td>\n",
              "    </tr>\n",
              "    <tr>\n",
              "      <th>252754</th>\n",
              "      <td>404923</td>\n",
              "      <td>karen.buckley@enron.com</td>\n",
              "      <td>2002-02-06 16:51:29</td>\n",
              "      <td>&lt;16183734.1075840015218.JavaMail.evans@thyme&gt;</td>\n",
              "      <td>URGENT - NEED CONFIRMATION TODAY</td>\n",
              "      <td>X-FileName: Pls confirm at what location (i.e ...</td>\n",
              "      <td>ExMerge - Dean, CraigInbox</td>\n",
              "    </tr>\n",
              "    <tr>\n",
              "      <th>252755</th>\n",
              "      <td>404924</td>\n",
              "      <td>karen.buckley@enron.com</td>\n",
              "      <td>2002-02-06 17:17:39</td>\n",
              "      <td>&lt;28117049.1075840015191.JavaMail.evans@thyme&gt;</td>\n",
              "      <td></td>\n",
              "      <td>X-FileName: Craig - I need the date and locati...</td>\n",
              "      <td>ExMerge - Dean, CraigInbox</td>\n",
              "    </tr>\n",
              "    <tr>\n",
              "      <th>252756</th>\n",
              "      <td>404925</td>\n",
              "      <td>liz.taylor@enron.com</td>\n",
              "      <td>2002-02-06 20:09:37</td>\n",
              "      <td>&lt;32633742.1075840015168.JavaMail.evans@thyme&gt;</td>\n",
              "      <td>Trader Presentations - 2/7 @ 2:30 p.m. (CST) i...</td>\n",
              "      <td>X-FileName:      There will be two presentatio...</td>\n",
              "      <td>ExMerge - Dean, CraigInbox</td>\n",
              "    </tr>\n",
              "    <tr>\n",
              "      <th>252757</th>\n",
              "      <td>404926</td>\n",
              "      <td>pete.davis@enron.com</td>\n",
              "      <td>2002-02-07 04:38:13</td>\n",
              "      <td>&lt;17912146.1075840015125.JavaMail.evans@thyme&gt;</td>\n",
              "      <td>Start Date: 2/7/02; HourAhead hour: 3;</td>\n",
              "      <td>X-FileName: Start Date: 2/7/02; HourAhead hour...</td>\n",
              "      <td>ExMerge - Dean, CraigInbox</td>\n",
              "    </tr>\n",
              "    <tr>\n",
              "      <th>252758</th>\n",
              "      <td>404927</td>\n",
              "      <td>pete.davis@enron.com</td>\n",
              "      <td>2002-02-07 05:38:14</td>\n",
              "      <td>&lt;16703414.1075840015101.JavaMail.evans@thyme&gt;</td>\n",
              "      <td>Start Date: 2/7/02; HourAhead hour: 4;</td>\n",
              "      <td>X-FileName: Start Date: 2/7/02; HourAhead hour...</td>\n",
              "      <td>ExMerge - Dean, CraigInbox</td>\n",
              "    </tr>\n",
              "  </tbody>\n",
              "</table>\n",
              "<p>252349 rows × 7 columns</p>\n",
              "</div>\n",
              "      <button class=\"colab-df-convert\" onclick=\"convertToInteractive('df-ffdd8553-7d8e-4875-b593-609232e1e7b1')\"\n",
              "              title=\"Convert this dataframe to an interactive table.\"\n",
              "              style=\"display:none;\">\n",
              "        \n",
              "  <svg xmlns=\"http://www.w3.org/2000/svg\" height=\"24px\"viewBox=\"0 0 24 24\"\n",
              "       width=\"24px\">\n",
              "    <path d=\"M0 0h24v24H0V0z\" fill=\"none\"/>\n",
              "    <path d=\"M18.56 5.44l.94 2.06.94-2.06 2.06-.94-2.06-.94-.94-2.06-.94 2.06-2.06.94zm-11 1L8.5 8.5l.94-2.06 2.06-.94-2.06-.94L8.5 2.5l-.94 2.06-2.06.94zm10 10l.94 2.06.94-2.06 2.06-.94-2.06-.94-.94-2.06-.94 2.06-2.06.94z\"/><path d=\"M17.41 7.96l-1.37-1.37c-.4-.4-.92-.59-1.43-.59-.52 0-1.04.2-1.43.59L10.3 9.45l-7.72 7.72c-.78.78-.78 2.05 0 2.83L4 21.41c.39.39.9.59 1.41.59.51 0 1.02-.2 1.41-.59l7.78-7.78 2.81-2.81c.8-.78.8-2.07 0-2.86zM5.41 20L4 18.59l7.72-7.72 1.47 1.35L5.41 20z\"/>\n",
              "  </svg>\n",
              "      </button>\n",
              "      \n",
              "  <style>\n",
              "    .colab-df-container {\n",
              "      display:flex;\n",
              "      flex-wrap:wrap;\n",
              "      gap: 12px;\n",
              "    }\n",
              "\n",
              "    .colab-df-convert {\n",
              "      background-color: #E8F0FE;\n",
              "      border: none;\n",
              "      border-radius: 50%;\n",
              "      cursor: pointer;\n",
              "      display: none;\n",
              "      fill: #1967D2;\n",
              "      height: 32px;\n",
              "      padding: 0 0 0 0;\n",
              "      width: 32px;\n",
              "    }\n",
              "\n",
              "    .colab-df-convert:hover {\n",
              "      background-color: #E2EBFA;\n",
              "      box-shadow: 0px 1px 2px rgba(60, 64, 67, 0.3), 0px 1px 3px 1px rgba(60, 64, 67, 0.15);\n",
              "      fill: #174EA6;\n",
              "    }\n",
              "\n",
              "    [theme=dark] .colab-df-convert {\n",
              "      background-color: #3B4455;\n",
              "      fill: #D2E3FC;\n",
              "    }\n",
              "\n",
              "    [theme=dark] .colab-df-convert:hover {\n",
              "      background-color: #434B5C;\n",
              "      box-shadow: 0px 1px 3px 1px rgba(0, 0, 0, 0.15);\n",
              "      filter: drop-shadow(0px 1px 2px rgba(0, 0, 0, 0.3));\n",
              "      fill: #FFFFFF;\n",
              "    }\n",
              "  </style>\n",
              "\n",
              "      <script>\n",
              "        const buttonEl =\n",
              "          document.querySelector('#df-ffdd8553-7d8e-4875-b593-609232e1e7b1 button.colab-df-convert');\n",
              "        buttonEl.style.display =\n",
              "          google.colab.kernel.accessAllowed ? 'block' : 'none';\n",
              "\n",
              "        async function convertToInteractive(key) {\n",
              "          const element = document.querySelector('#df-ffdd8553-7d8e-4875-b593-609232e1e7b1');\n",
              "          const dataTable =\n",
              "            await google.colab.kernel.invokeFunction('convertToInteractive',\n",
              "                                                     [key], {});\n",
              "          if (!dataTable) return;\n",
              "\n",
              "          const docLinkHtml = 'Like what you see? Visit the ' +\n",
              "            '<a target=\"_blank\" href=https://colab.research.google.com/notebooks/data_table.ipynb>data table notebook</a>'\n",
              "            + ' to learn more about interactive tables.';\n",
              "          element.innerHTML = '';\n",
              "          dataTable['output_type'] = 'display_data';\n",
              "          await google.colab.output.renderOutput(dataTable, element);\n",
              "          const docLink = document.createElement('div');\n",
              "          docLink.innerHTML = docLinkHtml;\n",
              "          element.appendChild(docLink);\n",
              "        }\n",
              "      </script>\n",
              "    </div>\n",
              "  </div>\n",
              "  "
            ]
          },
          "metadata": {},
          "execution_count": 21
        }
      ]
    },
    {
      "cell_type": "code",
      "source": [
        "# In df2, create a new column called 'date_new' and convert the content of 'date' top Pandas datetime\n",
        "df2['date_new'] = pd.to_datetime(df2['date'])\n",
        "# Using pandad datetime function, convert the contents of 'date_new' to date format only\n",
        "df2['date_new'] = df2['date_new'].dt.date\n",
        "df2"
      ],
      "metadata": {
        "colab": {
          "base_uri": "https://localhost:8080/",
          "height": 1000
        },
        "id": "4KWRcJdBuS5e",
        "outputId": "280d945f-aa79-471a-de0e-c06bfda35a17"
      },
      "execution_count": 28,
      "outputs": [
        {
          "output_type": "stream",
          "name": "stderr",
          "text": [
            "/usr/local/lib/python3.7/dist-packages/ipykernel_launcher.py:1: SettingWithCopyWarning: \n",
            "A value is trying to be set on a copy of a slice from a DataFrame.\n",
            "Try using .loc[row_indexer,col_indexer] = value instead\n",
            "\n",
            "See the caveats in the documentation: https://pandas.pydata.org/pandas-docs/stable/user_guide/indexing.html#returning-a-view-versus-a-copy\n",
            "  \"\"\"Entry point for launching an IPython kernel.\n",
            "/usr/local/lib/python3.7/dist-packages/ipykernel_launcher.py:2: SettingWithCopyWarning: \n",
            "A value is trying to be set on a copy of a slice from a DataFrame.\n",
            "Try using .loc[row_indexer,col_indexer] = value instead\n",
            "\n",
            "See the caveats in the documentation: https://pandas.pydata.org/pandas-docs/stable/user_guide/indexing.html#returning-a-view-versus-a-copy\n",
            "  \n"
          ]
        },
        {
          "output_type": "execute_result",
          "data": {
            "text/plain": [
              "           mid                     sender                 date  \\\n",
              "0           52    press.release@enron.com  2000-01-21 04:51:00   \n",
              "1           53  office.chairman@enron.com  2000-01-24 01:37:00   \n",
              "2           54  office.chairman@enron.com  2000-01-24 02:06:00   \n",
              "3           55    press.release@enron.com  2000-02-02 10:21:00   \n",
              "4           56  office.chairman@enron.com  2000-02-07 22:16:00   \n",
              "...        ...                        ...                  ...   \n",
              "252754  404923    karen.buckley@enron.com  2002-02-06 16:51:29   \n",
              "252755  404924    karen.buckley@enron.com  2002-02-06 17:17:39   \n",
              "252756  404925       liz.taylor@enron.com  2002-02-06 20:09:37   \n",
              "252757  404926       pete.davis@enron.com  2002-02-07 04:38:13   \n",
              "252758  404927       pete.davis@enron.com  2002-02-07 05:38:14   \n",
              "\n",
              "                                           message_id  \\\n",
              "0       <12435833.1075863606729.JavaMail.evans@thyme>   \n",
              "1       <29664079.1075863606676.JavaMail.evans@thyme>   \n",
              "2       <15300605.1075863606629.JavaMail.evans@thyme>   \n",
              "3       <10522232.1075863606538.JavaMail.evans@thyme>   \n",
              "4       <16056123.1075863606515.JavaMail.evans@thyme>   \n",
              "...                                               ...   \n",
              "252754  <16183734.1075840015218.JavaMail.evans@thyme>   \n",
              "252755  <28117049.1075840015191.JavaMail.evans@thyme>   \n",
              "252756  <32633742.1075840015168.JavaMail.evans@thyme>   \n",
              "252757  <17912146.1075840015125.JavaMail.evans@thyme>   \n",
              "252758  <16703414.1075840015101.JavaMail.evans@thyme>   \n",
              "\n",
              "                                                  subject  \\\n",
              "0       ENRON HOSTS ANNUAL ANALYST CONFERENCE PROVIDES...   \n",
              "1                         Over $50 -- You made it happen!   \n",
              "2                         Over $50 -- You made it happen!   \n",
              "3       ROAD-SHOW.COM Q4i.COM CHOOSE ENRON TO DELIVER ...   \n",
              "4                            Fortune Most Admired Ranking   \n",
              "...                                                   ...   \n",
              "252754                   URGENT - NEED CONFIRMATION TODAY   \n",
              "252755                                                      \n",
              "252756  Trader Presentations - 2/7 @ 2:30 p.m. (CST) i...   \n",
              "252757             Start Date: 2/7/02; HourAhead hour: 3;   \n",
              "252758             Start Date: 2/7/02; HourAhead hour: 4;   \n",
              "\n",
              "                                                     body  \\\n",
              "0       HOUSTON - Enron Corp. hosted its annual equity...   \n",
              "1       On Wall Street, people are talking about Enron...   \n",
              "2       On Wall Street, people are talking about Enron...   \n",
              "3       HOUSTON =01) Enron Broadband Services (EBS), a...   \n",
              "4       Congratulations!  For an unprecedented five ye...   \n",
              "...                                                   ...   \n",
              "252754  X-FileName: Pls confirm at what location (i.e ...   \n",
              "252755  X-FileName: Craig - I need the date and locati...   \n",
              "252756  X-FileName:      There will be two presentatio...   \n",
              "252757  X-FileName: Start Date: 2/7/02; HourAhead hour...   \n",
              "252758  X-FileName: Start Date: 2/7/02; HourAhead hour...   \n",
              "\n",
              "                                                  folder    date_new  \n",
              "0       Robert_Badeer_Aug2000Notes FoldersPress releases  2000-01-21  \n",
              "1       Robert_Badeer_Aug2000Notes FoldersPress releases  2000-01-24  \n",
              "2       Robert_Badeer_Aug2000Notes FoldersPress releases  2000-01-24  \n",
              "3       Robert_Badeer_Aug2000Notes FoldersPress releases  2000-02-02  \n",
              "4       Robert_Badeer_Aug2000Notes FoldersPress releases  2000-02-07  \n",
              "...                                                  ...         ...  \n",
              "252754                        ExMerge - Dean, CraigInbox  2002-02-06  \n",
              "252755                        ExMerge - Dean, CraigInbox  2002-02-06  \n",
              "252756                        ExMerge - Dean, CraigInbox  2002-02-06  \n",
              "252757                        ExMerge - Dean, CraigInbox  2002-02-07  \n",
              "252758                        ExMerge - Dean, CraigInbox  2002-02-07  \n",
              "\n",
              "[252349 rows x 8 columns]"
            ],
            "text/html": [
              "\n",
              "  <div id=\"df-bedc609e-d510-4107-bdcd-febe2d6b4fa8\">\n",
              "    <div class=\"colab-df-container\">\n",
              "      <div>\n",
              "<style scoped>\n",
              "    .dataframe tbody tr th:only-of-type {\n",
              "        vertical-align: middle;\n",
              "    }\n",
              "\n",
              "    .dataframe tbody tr th {\n",
              "        vertical-align: top;\n",
              "    }\n",
              "\n",
              "    .dataframe thead th {\n",
              "        text-align: right;\n",
              "    }\n",
              "</style>\n",
              "<table border=\"1\" class=\"dataframe\">\n",
              "  <thead>\n",
              "    <tr style=\"text-align: right;\">\n",
              "      <th></th>\n",
              "      <th>mid</th>\n",
              "      <th>sender</th>\n",
              "      <th>date</th>\n",
              "      <th>message_id</th>\n",
              "      <th>subject</th>\n",
              "      <th>body</th>\n",
              "      <th>folder</th>\n",
              "      <th>date_new</th>\n",
              "    </tr>\n",
              "  </thead>\n",
              "  <tbody>\n",
              "    <tr>\n",
              "      <th>0</th>\n",
              "      <td>52</td>\n",
              "      <td>press.release@enron.com</td>\n",
              "      <td>2000-01-21 04:51:00</td>\n",
              "      <td>&lt;12435833.1075863606729.JavaMail.evans@thyme&gt;</td>\n",
              "      <td>ENRON HOSTS ANNUAL ANALYST CONFERENCE PROVIDES...</td>\n",
              "      <td>HOUSTON - Enron Corp. hosted its annual equity...</td>\n",
              "      <td>Robert_Badeer_Aug2000Notes FoldersPress releases</td>\n",
              "      <td>2000-01-21</td>\n",
              "    </tr>\n",
              "    <tr>\n",
              "      <th>1</th>\n",
              "      <td>53</td>\n",
              "      <td>office.chairman@enron.com</td>\n",
              "      <td>2000-01-24 01:37:00</td>\n",
              "      <td>&lt;29664079.1075863606676.JavaMail.evans@thyme&gt;</td>\n",
              "      <td>Over $50 -- You made it happen!</td>\n",
              "      <td>On Wall Street, people are talking about Enron...</td>\n",
              "      <td>Robert_Badeer_Aug2000Notes FoldersPress releases</td>\n",
              "      <td>2000-01-24</td>\n",
              "    </tr>\n",
              "    <tr>\n",
              "      <th>2</th>\n",
              "      <td>54</td>\n",
              "      <td>office.chairman@enron.com</td>\n",
              "      <td>2000-01-24 02:06:00</td>\n",
              "      <td>&lt;15300605.1075863606629.JavaMail.evans@thyme&gt;</td>\n",
              "      <td>Over $50 -- You made it happen!</td>\n",
              "      <td>On Wall Street, people are talking about Enron...</td>\n",
              "      <td>Robert_Badeer_Aug2000Notes FoldersPress releases</td>\n",
              "      <td>2000-01-24</td>\n",
              "    </tr>\n",
              "    <tr>\n",
              "      <th>3</th>\n",
              "      <td>55</td>\n",
              "      <td>press.release@enron.com</td>\n",
              "      <td>2000-02-02 10:21:00</td>\n",
              "      <td>&lt;10522232.1075863606538.JavaMail.evans@thyme&gt;</td>\n",
              "      <td>ROAD-SHOW.COM Q4i.COM CHOOSE ENRON TO DELIVER ...</td>\n",
              "      <td>HOUSTON =01) Enron Broadband Services (EBS), a...</td>\n",
              "      <td>Robert_Badeer_Aug2000Notes FoldersPress releases</td>\n",
              "      <td>2000-02-02</td>\n",
              "    </tr>\n",
              "    <tr>\n",
              "      <th>4</th>\n",
              "      <td>56</td>\n",
              "      <td>office.chairman@enron.com</td>\n",
              "      <td>2000-02-07 22:16:00</td>\n",
              "      <td>&lt;16056123.1075863606515.JavaMail.evans@thyme&gt;</td>\n",
              "      <td>Fortune Most Admired Ranking</td>\n",
              "      <td>Congratulations!  For an unprecedented five ye...</td>\n",
              "      <td>Robert_Badeer_Aug2000Notes FoldersPress releases</td>\n",
              "      <td>2000-02-07</td>\n",
              "    </tr>\n",
              "    <tr>\n",
              "      <th>...</th>\n",
              "      <td>...</td>\n",
              "      <td>...</td>\n",
              "      <td>...</td>\n",
              "      <td>...</td>\n",
              "      <td>...</td>\n",
              "      <td>...</td>\n",
              "      <td>...</td>\n",
              "      <td>...</td>\n",
              "    </tr>\n",
              "    <tr>\n",
              "      <th>252754</th>\n",
              "      <td>404923</td>\n",
              "      <td>karen.buckley@enron.com</td>\n",
              "      <td>2002-02-06 16:51:29</td>\n",
              "      <td>&lt;16183734.1075840015218.JavaMail.evans@thyme&gt;</td>\n",
              "      <td>URGENT - NEED CONFIRMATION TODAY</td>\n",
              "      <td>X-FileName: Pls confirm at what location (i.e ...</td>\n",
              "      <td>ExMerge - Dean, CraigInbox</td>\n",
              "      <td>2002-02-06</td>\n",
              "    </tr>\n",
              "    <tr>\n",
              "      <th>252755</th>\n",
              "      <td>404924</td>\n",
              "      <td>karen.buckley@enron.com</td>\n",
              "      <td>2002-02-06 17:17:39</td>\n",
              "      <td>&lt;28117049.1075840015191.JavaMail.evans@thyme&gt;</td>\n",
              "      <td></td>\n",
              "      <td>X-FileName: Craig - I need the date and locati...</td>\n",
              "      <td>ExMerge - Dean, CraigInbox</td>\n",
              "      <td>2002-02-06</td>\n",
              "    </tr>\n",
              "    <tr>\n",
              "      <th>252756</th>\n",
              "      <td>404925</td>\n",
              "      <td>liz.taylor@enron.com</td>\n",
              "      <td>2002-02-06 20:09:37</td>\n",
              "      <td>&lt;32633742.1075840015168.JavaMail.evans@thyme&gt;</td>\n",
              "      <td>Trader Presentations - 2/7 @ 2:30 p.m. (CST) i...</td>\n",
              "      <td>X-FileName:      There will be two presentatio...</td>\n",
              "      <td>ExMerge - Dean, CraigInbox</td>\n",
              "      <td>2002-02-06</td>\n",
              "    </tr>\n",
              "    <tr>\n",
              "      <th>252757</th>\n",
              "      <td>404926</td>\n",
              "      <td>pete.davis@enron.com</td>\n",
              "      <td>2002-02-07 04:38:13</td>\n",
              "      <td>&lt;17912146.1075840015125.JavaMail.evans@thyme&gt;</td>\n",
              "      <td>Start Date: 2/7/02; HourAhead hour: 3;</td>\n",
              "      <td>X-FileName: Start Date: 2/7/02; HourAhead hour...</td>\n",
              "      <td>ExMerge - Dean, CraigInbox</td>\n",
              "      <td>2002-02-07</td>\n",
              "    </tr>\n",
              "    <tr>\n",
              "      <th>252758</th>\n",
              "      <td>404927</td>\n",
              "      <td>pete.davis@enron.com</td>\n",
              "      <td>2002-02-07 05:38:14</td>\n",
              "      <td>&lt;16703414.1075840015101.JavaMail.evans@thyme&gt;</td>\n",
              "      <td>Start Date: 2/7/02; HourAhead hour: 4;</td>\n",
              "      <td>X-FileName: Start Date: 2/7/02; HourAhead hour...</td>\n",
              "      <td>ExMerge - Dean, CraigInbox</td>\n",
              "      <td>2002-02-07</td>\n",
              "    </tr>\n",
              "  </tbody>\n",
              "</table>\n",
              "<p>252349 rows × 8 columns</p>\n",
              "</div>\n",
              "      <button class=\"colab-df-convert\" onclick=\"convertToInteractive('df-bedc609e-d510-4107-bdcd-febe2d6b4fa8')\"\n",
              "              title=\"Convert this dataframe to an interactive table.\"\n",
              "              style=\"display:none;\">\n",
              "        \n",
              "  <svg xmlns=\"http://www.w3.org/2000/svg\" height=\"24px\"viewBox=\"0 0 24 24\"\n",
              "       width=\"24px\">\n",
              "    <path d=\"M0 0h24v24H0V0z\" fill=\"none\"/>\n",
              "    <path d=\"M18.56 5.44l.94 2.06.94-2.06 2.06-.94-2.06-.94-.94-2.06-.94 2.06-2.06.94zm-11 1L8.5 8.5l.94-2.06 2.06-.94-2.06-.94L8.5 2.5l-.94 2.06-2.06.94zm10 10l.94 2.06.94-2.06 2.06-.94-2.06-.94-.94-2.06-.94 2.06-2.06.94z\"/><path d=\"M17.41 7.96l-1.37-1.37c-.4-.4-.92-.59-1.43-.59-.52 0-1.04.2-1.43.59L10.3 9.45l-7.72 7.72c-.78.78-.78 2.05 0 2.83L4 21.41c.39.39.9.59 1.41.59.51 0 1.02-.2 1.41-.59l7.78-7.78 2.81-2.81c.8-.78.8-2.07 0-2.86zM5.41 20L4 18.59l7.72-7.72 1.47 1.35L5.41 20z\"/>\n",
              "  </svg>\n",
              "      </button>\n",
              "      \n",
              "  <style>\n",
              "    .colab-df-container {\n",
              "      display:flex;\n",
              "      flex-wrap:wrap;\n",
              "      gap: 12px;\n",
              "    }\n",
              "\n",
              "    .colab-df-convert {\n",
              "      background-color: #E8F0FE;\n",
              "      border: none;\n",
              "      border-radius: 50%;\n",
              "      cursor: pointer;\n",
              "      display: none;\n",
              "      fill: #1967D2;\n",
              "      height: 32px;\n",
              "      padding: 0 0 0 0;\n",
              "      width: 32px;\n",
              "    }\n",
              "\n",
              "    .colab-df-convert:hover {\n",
              "      background-color: #E2EBFA;\n",
              "      box-shadow: 0px 1px 2px rgba(60, 64, 67, 0.3), 0px 1px 3px 1px rgba(60, 64, 67, 0.15);\n",
              "      fill: #174EA6;\n",
              "    }\n",
              "\n",
              "    [theme=dark] .colab-df-convert {\n",
              "      background-color: #3B4455;\n",
              "      fill: #D2E3FC;\n",
              "    }\n",
              "\n",
              "    [theme=dark] .colab-df-convert:hover {\n",
              "      background-color: #434B5C;\n",
              "      box-shadow: 0px 1px 3px 1px rgba(0, 0, 0, 0.15);\n",
              "      filter: drop-shadow(0px 1px 2px rgba(0, 0, 0, 0.3));\n",
              "      fill: #FFFFFF;\n",
              "    }\n",
              "  </style>\n",
              "\n",
              "      <script>\n",
              "        const buttonEl =\n",
              "          document.querySelector('#df-bedc609e-d510-4107-bdcd-febe2d6b4fa8 button.colab-df-convert');\n",
              "        buttonEl.style.display =\n",
              "          google.colab.kernel.accessAllowed ? 'block' : 'none';\n",
              "\n",
              "        async function convertToInteractive(key) {\n",
              "          const element = document.querySelector('#df-bedc609e-d510-4107-bdcd-febe2d6b4fa8');\n",
              "          const dataTable =\n",
              "            await google.colab.kernel.invokeFunction('convertToInteractive',\n",
              "                                                     [key], {});\n",
              "          if (!dataTable) return;\n",
              "\n",
              "          const docLinkHtml = 'Like what you see? Visit the ' +\n",
              "            '<a target=\"_blank\" href=https://colab.research.google.com/notebooks/data_table.ipynb>data table notebook</a>'\n",
              "            + ' to learn more about interactive tables.';\n",
              "          element.innerHTML = '';\n",
              "          dataTable['output_type'] = 'display_data';\n",
              "          await google.colab.output.renderOutput(dataTable, element);\n",
              "          const docLink = document.createElement('div');\n",
              "          docLink.innerHTML = docLinkHtml;\n",
              "          element.appendChild(docLink);\n",
              "        }\n",
              "      </script>\n",
              "    </div>\n",
              "  </div>\n",
              "  "
            ]
          },
          "metadata": {},
          "execution_count": 28
        }
      ]
    },
    {
      "cell_type": "code",
      "source": [
        "#Count the quantity of matching values in the dataframe column 'date_new' and assign to new dataframe\n",
        "df3 = df2['date_new'].value_counts()\n",
        "df3\n"
      ],
      "metadata": {
        "colab": {
          "base_uri": "https://localhost:8080/"
        },
        "id": "tm18bazZuSvr",
        "outputId": "7b97f454-882d-4111-c23b-821da5e98cb4"
      },
      "execution_count": 36,
      "outputs": [
        {
          "output_type": "execute_result",
          "data": {
            "text/plain": [
              "2001-10-25    2207\n",
              "2001-10-29    2180\n",
              "2001-11-27    2045\n",
              "2001-11-26    2031\n",
              "2001-10-22    2025\n",
              "              ... \n",
              "1999-08-14       1\n",
              "1999-05-07       1\n",
              "2002-04-28       1\n",
              "1999-04-02       1\n",
              "1999-02-27       1\n",
              "Name: date_new, Length: 1178, dtype: int64"
            ]
          },
          "metadata": {},
          "execution_count": 36
        }
      ]
    },
    {
      "cell_type": "code",
      "source": [
        "# Rename the columns and reset the index to create a new dataframe with just the required date for the plot\n",
        "df3 = df2['date_new'].value_counts().rename_axis(\"Dates\").reset_index(name='Count')\n",
        "# Sort values by Date\n",
        "df3 = df3.sort_values(\"Dates\")\n",
        "print (df3)"
      ],
      "metadata": {
        "colab": {
          "base_uri": "https://localhost:8080/"
        },
        "id": "5lwiNARxxZg6",
        "outputId": "af5ae5cc-1e2d-40b2-a4ab-1837e1ef6983"
      },
      "execution_count": 45,
      "outputs": [
        {
          "output_type": "stream",
          "name": "stdout",
          "text": [
            "           Dates  Count\n",
            "1072  1999-01-04      3\n",
            "1116  1999-01-05      2\n",
            "1115  1999-01-06      2\n",
            "1087  1999-01-07      3\n",
            "1051  1999-01-08      4\n",
            "...          ...    ...\n",
            "1034  2002-07-12      5\n",
            "1149  2002-09-18      1\n",
            "1117  2002-09-22      2\n",
            "1153  2002-10-09      1\n",
            "1152  2002-12-21      1\n",
            "\n",
            "[1178 rows x 2 columns]\n"
          ]
        }
      ]
    },
    {
      "cell_type": "code",
      "source": [
        "#Using the MatplotLib Library create a bar graph with size 15,9\n",
        "fig, ax = plt.subplots(figsize=(15, 9))\n",
        "#Plot Dates on x-axis and Count on y-axis\n",
        "ax.plot(df3['Dates'], df3['Count']);\n",
        "#Define the x/y labels\n",
        "plt.xlabel('Date')\n",
        "plt.ylabel('Emails Sent/Recieved')\n",
        "#Add a title\n",
        "plt.title('Emails Sent/Recieved By Day Over Time')\n",
        "plt.savefig('datetimeseries.png')"
      ],
      "metadata": {
        "colab": {
          "base_uri": "https://localhost:8080/",
          "height": 567
        },
        "id": "TpQMbu590Bl0",
        "outputId": "2275ab62-bd98-45c8-97ae-6afa551dc975"
      },
      "execution_count": 52,
      "outputs": [
        {
          "output_type": "display_data",
          "data": {
            "text/plain": [
              "<Figure size 1080x648 with 1 Axes>"
            ],
            "image/png": "[encoded data removed]"
          },
          "metadata": {
            "needs_background": "light"
          }
        }
      ]
    },
    {
      "cell_type": "markdown",
      "source": [
        "# Discussion\n",
        "\n",
        "From the analysis of the database of given email records over the time of question, it is now possible to analyse the dataset with the graphs genereated\n",
        "\n",
        "### Emails By Employee\n",
        "\n",
        "From this first graph, we can see that "
      ],
      "metadata": {
        "id": "i52abiYogpx5"
      }
    },
    {
      "cell_type": "markdown",
      "source": [
        "### Emails By Date\n",
        "\n",
        "From the second graph we can see that there is 2 main peaks that occur around the end of 2001 as well as have 5 paaks total ranging from the start of 2001 to mid 2002. When the company first recorded email usage in 1999, there was limited emails being sent between employees or externally. Emailing via the internet started to grow dramatically in the late 1990's () and therefore we can see an increasing trend between the avaliability of emails to users as we progress into the early 2000's.\n",
        "\n",
        "Enron fil,ed bankrupcy on December 2nd 2001 (), which correlates with the flatline of emails throughout the company towards the end of the graph. We can see this decline due to the volume of staff removed from the company ().\n",
        "\n",
        "Furthur analysis of the data indicates the top 10 days of email tarffic (sent/recived) by date, which allows us to more clearly see the exact dates that the company had a higher email throughput. This can be seen in Figure 3: Top 10 Email Volume Dates.\n"
      ],
      "metadata": {
        "id": "5nJVVFL0SHPv"
      }
    },
    {
      "cell_type": "code",
      "source": [
        "image = Image.open('datetimeseries.png')\n",
        "image"
      ],
      "metadata": {
        "id": "YMkbkzLTRCw5",
        "outputId": "2e43b69b-a86e-470c-98be-6ed65d9f8476",
        "colab": {
          "base_uri": "https://localhost:8080/",
          "height": 665
        }
      },
      "execution_count": 61,
      "outputs": [
        {
          "output_type": "execute_result",
          "data": {
            "text/plain": [
              "<PIL.PngImagePlugin.PngImageFile image mode=RGBA size=1080x648 at 0x7FA768BF91D0>"
            ],
            "image/png": "[encoded data removed]"
          },
          "metadata": {},
          "execution_count": 61
        }
      ]
    },
    {
      "cell_type": "markdown",
      "source": [
        "# Conclusion"
      ],
      "metadata": {
        "id": "tOohPvqchI9T"
      }
    },
    {
      "cell_type": "markdown",
      "source": [
        "# References"
      ],
      "metadata": {
        "id": "uWMx4ZeehLlY"
      }
    },
    {
      "cell_type": "code",
      "source": [
        ""
      ],
      "metadata": {
        "id": "7ZC35KiTgoze"
      },
      "execution_count": null,
      "outputs": []
    }
  ]
}