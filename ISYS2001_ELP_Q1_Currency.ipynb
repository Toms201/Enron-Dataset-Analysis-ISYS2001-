{
  "nbformat": 4,
  "nbformat_minor": 0,
  "metadata": {
    "colab": {
      "name": "ISYS2001-ELP-Q1 -Currency.ipynb",
      "provenance": [],
      "authorship_tag": "ABX9TyObB3vJg8S9LEzS0OEVbFlQ",
      "include_colab_link": true
    },
    "kernelspec": {
      "name": "python3",
      "display_name": "Python 3"
    },
    "language_info": {
      "name": "python"
    }
  },
  "cells": [
    {
      "cell_type": "markdown",
      "metadata": {
        "id": "view-in-github",
        "colab_type": "text"
      },
      "source": [
        "<a href=\"https://colab.research.google.com/github/Toms201/ISYS2001-Assignment2/blob/main/ISYS2001_ELP_Q1_Currency.ipynb\" target=\"_parent\"><img src=\"https://colab.research.google.com/assets/colab-badge.svg\" alt=\"Open In Colab\"/></a>"
      ]
    },
    {
      "cell_type": "markdown",
      "source": [
        "#Question One - Tourist Currency Converter\n",
        "This notebook contains the design, planning and implementation of the International Currency Converter for the ISYS2001 ELP Question One."
      ],
      "metadata": {
        "id": "R68tB-h3d6_O"
      }
    },
    {
      "cell_type": "markdown",
      "source": [
        "## Step One: State The Problem Clearly\n",
        "\n",
        "The first step of the problem solving methodology is to state the problem clearly.\n",
        "\n",
        "I would define the problem as follows: \n",
        "\n",
        "To Create and deploy an app that assists travellers visiting Australia by converting US dollars or Japanese Yen to Australian dollars. The user should be able to enter a currency and its value, and the computer should subsequently show the value in AUD. With this, the design shopuld be easy tio use, and should allow the user to convert multiple currency ammounts depending on their requiremenets.\n",
        "\n",
        "The design should be implemented in a google coplab notebook, and can run in a variety of ways inclduing directly in the notebook, as a form or as a dedicated application.\n",
        "\n",
        "We also know the following from the design breif:\n",
        "\n",
        "\n",
        "> The current rate of exchange for USD to AUD is: 1 USD = 1.38 AUD.\n",
        "\n",
        "> The current rate of exchange for YEN to AUD is: 1 YEN = 0.010 AUD.\n",
        " From this we can begin to determine a design.\n"
      ],
      "metadata": {
        "id": "nQv9m7xCeL_f"
      }
    },
    {
      "cell_type": "markdown",
      "source": [
        "##Step Two: Describe The Input And Output\n",
        "\n",
        "The second step involves describing the input and output of the application to ensure that its desired functions are met.\n",
        "\n",
        "###Inputs\n",
        "1. Input Currency as a selection.\n",
        "\n",
        "EXAMPLE INPUT: USD, usd, U, u or YEN, yen, Y, y.\n",
        "\n",
        "TYPE: String\n",
        "\n",
        "ERRORS TO BE CAUTIOS OF: Input error, the user enters or selects a currency value other than 'USD' or 'YEN'. USe exception handling to prompt the user to only enter the value as the given string. We could also use a dropdown to limit the users ability to select.\n",
        "\n",
        "2. Dollar amount to convert to AUD.\n",
        "\n",
        "EXAMPLE INPUT: 330.45\n",
        "\n",
        "TYPE: Float (As a number can be of decimal value).\n",
        "\n",
        "ERRORS TO BE CAUTIOS OF: Input error, the user enters a string (str) instead of a float such as 'Three Hundred and Thirty Dollars and Fourty Five Cents' OR if the user enters the dollar/yen symbol ($) with their response. Exception haqndlign can prompt the user to try again.\n"
      ],
      "metadata": {
        "id": "L8u6vro-fTi3"
      }
    },
    {
      "cell_type": "markdown",
      "source": [
        "## STEP THREE: Work a Simple Example By Hand\n",
        "\n",
        "The thrid step in the development process is work a simple example by hand, so the process can be fully understood as to how the code should run. With this its important to understand the end goals of the application, and how the conversion should be set out.\n",
        "\n",
        "To Begin, I will write the program in psudocode to allow for the brainstorming and development of its implkemnetation.\n",
        "\n",
        "\n",
        "### The following is psudocode and is not intended to run.\n",
        "> Print 'Welcome to the Australian Tourist Currency Coverter for USD and YEN!\n",
        ">\n",
        ">**Try**:\n",
        ">   currency(USD or YEN) should equal the input of the USD or YEN in string value\n",
        "> \n",
        "> **Except** if it does not:\n",
        "> \n",
        "> print to the console an error messgae.\n",
        ">\n",
        "> **Try**:\n",
        "> the original currency value in USD or Yen should equal the input of the currency value in float format.\n",
        ">\n",
        "> **Except** if it does not equal float format:\n",
        ">\n",
        "> print an error message to let the user know\n",
        ">\n",
        ">\n",
        "> Define the usd rate as 1.38 and the Yen rate as 0.010 in respecitve variables.\n",
        ">\n",
        "> **if** the currency entered is equal to any of USD, usd, u, U then:\n",
        ">\n",
        "> the australian dollar amount will equal the USD value entered multiplied by the USD conversion Rate, then all in string format.\n",
        ">\n",
        "> print the result statement in an easy to read format.\n",
        ">\n",
        "> **if else** the currency entered is equal to any of YEN, yen, y, Y then:\n",
        ">\n",
        "> the australian dollar amount will equal the YEN value entered multiplied by the Yen conversion Rate, then all in string format.\n",
        ">\n",
        "> print the result statement in an easy to read format.\n",
        ">\n",
        "> **else** the currency type is not USD or YEN then present an error message\n",
        "\n",
        "I also thought it would be relevant to breakdown the maths, so that I am fully aware of the valculation to take place.\n",
        "\n",
        "For Example\n",
        "> 10.00 USD\n",
        ">\n",
        ">10*1.38 =13.80 AUD\n",
        "\n",
        "And \n",
        "\n",
        "> 1000 YEN\n",
        ">\n",
        ">1000*0.010 = 10 AUD\n",
        "\n"
      ],
      "metadata": {
        "id": "B8V0Tinrgoxk"
      }
    },
    {
      "cell_type": "markdown",
      "source": [
        "#STEP FOUR: Develop And Algorithm\n",
        "The fourth step in the development process is to define and determine the code that we are going to use to alloew the program to execute. It is vital that the code is well formatted, and contains no errors to ensure smooth operation of the program.\n",
        "\n",
        "The code is as follows:"
      ],
      "metadata": {
        "id": "jI81KXz12icA"
      }
    },
    {
      "cell_type": "code",
      "source": [
        "#Print statement to welcome user to the application\n",
        "print('Welcome to the Australian Tourist Currency Coverter for USD and YEN!')\n",
        "\n",
        "#Use Try/Except method for exception handling\n",
        "try:\n",
        "  currency = str(input('Please Input the Origin Currency as USD or YEN '))\n",
        "except ValueError:\n",
        "  print('You did not enter USD or YEN, please try again')\n",
        "#Use Try/Except method for exception handling\n",
        "try:\n",
        "  origin_value = float(input('Please Imput the Value you wish to convert to AUD '))\n",
        "except ValueError:\n",
        "  print('please enter your current value as a full or decimal number, e.g. 5.53')\n",
        "#Define the exchange rates as variables\n",
        "usd_rate = 1.38\n",
        "yen_rate = 0.010\n",
        "\n",
        "#Using if/else statement to determine currency entered and then perform calculation\n",
        "if currency == 'USD' or 'u' or'U' or'usd':\n",
        "  aud_value = origin_value*usd_rate\n",
        "  aud_value = str(round(aud_value,2))\n",
        "  print(\"Your\", origin_value, currency, \"Is Equal To $\", aud_value, \"Australian Dollars\")\n",
        "elif currency == 'YEN' or 'y' or'Y' or'yen':\n",
        "  aud_value = origin_value*yen_rate\n",
        "  aud_value = str(round(aud_value,2))\n",
        "  print(\"Your\", origin_value, currency, \"Is Equal To $\", aud_value, \"Australian Dollars\")\n",
        "else:\n",
        "  print('Your currency does not appear to be valid, Please try again')"
      ],
      "metadata": {
        "colab": {
          "base_uri": "https://localhost:8080/"
        },
        "id": "csa-sHCpl799",
        "outputId": "16915dc8-7916-43d6-e1e2-3d5bd773cc05"
      },
      "execution_count": 14,
      "outputs": [
        {
          "output_type": "stream",
          "name": "stdout",
          "text": [
            "Welcome to the Australian Tourist Currency Coverter for USD and YEN!\n",
            "Please Input the Origin Currency as USD or YEN YEN\n",
            "Please Imput the Value you wish to convert to AUD 50\n",
            "Your 50.0 USD Is Equal To $ 69.0 Australian Dollars\n"
          ]
        }
      ]
    },
    {
      "cell_type": "markdown",
      "source": [
        "##Using Colab Forms to integrate as application"
      ],
      "metadata": {
        "id": "A5CDdtw828IT"
      }
    },
    {
      "cell_type": "code",
      "source": [
        "#Print statement to welcome user to the application\n",
        "\n",
        "#@title Welcome to the Australian Tourist Currency Coverter for USD and YEN!\n",
        "\n",
        "#Use Try/Except method for exception handling\n",
        "try:\n",
        "  #@markdown Please Select The Currency You Are Converting From.\n",
        "  currency = \"YEN\" #@param [\"USD\", \"YEN\"]\n",
        "except ValueError:\n",
        "  print('You did not enter USD or YEN, please try again')\n",
        "#Use Try/Except method for exception handling\n",
        "try:\n",
        "  #@markdown Please Enter The Value Of Origin Currency.\n",
        "  origin_value = 1 #@param {type:\"number\"}\n",
        "except ValueError:\n",
        "  print('please enter your current value as a full or decimal number, e.g. 5.53')\n",
        "#Define the exchange rates as variables\n",
        "usd_rate = 1.38\n",
        "yen_rate = 0.010\n",
        "\n",
        "#Using if/else statement to determine currency entered and then perform calculation\n",
        "if currency == \"USD\":\n",
        "  aud_value = origin_value * usd_rate\n",
        "  aud_value = str(round(aud_value,2))\n",
        "  print(\"Your\", origin_value, currency, \"Is Equal To $\", aud_value, \"Australian Dollars\")\n",
        "elif currency == \"YEN\":\n",
        "  aud_value = origin_value * yen_rate\n",
        "  aud_value = str(round(aud_value,2))\n",
        "  print(\"Your\", origin_value, currency, \"Is Equal To $\", aud_value, \"Australian Dollars\")\n",
        "else:\n",
        "  print('Your currency does not appear to be valid, Please try again')\n"
      ],
      "metadata": {
        "cellView": "form",
        "id": "vaRXx15j2_Bq",
        "outputId": "31c5196c-a426-4fc9-8e37-4decf53896ea",
        "colab": {
          "base_uri": "https://localhost:8080/"
        }
      },
      "execution_count": 23,
      "outputs": [
        {
          "output_type": "stream",
          "name": "stdout",
          "text": [
            "Your 1 YEN Is Equal To $ 0.01 Australian Dollars\n"
          ]
        }
      ]
    },
    {
      "cell_type": "markdown",
      "source": [
        "# Step Five: Test Solution With A Variety Of Data"
      ],
      "metadata": {
        "id": "KyD79ep519_i"
      }
    },
    {
      "cell_type": "code",
      "source": [
        ""
      ],
      "metadata": {
        "id": "rdnhLItEqnwl"
      },
      "execution_count": null,
      "outputs": []
    }
  ]
}