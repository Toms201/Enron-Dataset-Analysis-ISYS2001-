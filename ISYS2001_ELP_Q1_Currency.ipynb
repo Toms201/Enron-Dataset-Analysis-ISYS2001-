{
  "nbformat": 4,
  "nbformat_minor": 0,
  "metadata": {
    "colab": {
      "name": "ISYS2001-ELP-Q1 -Currency.ipynb",
      "provenance": [],
      "authorship_tag": "ABX9TyPYPrUC3oISQva2Eqr5YgeW",
      "include_colab_link": true
    },
    "kernelspec": {
      "name": "python3",
      "display_name": "Python 3"
    },
    "language_info": {
      "name": "python"
    }
  },
  "cells": [
    {
      "cell_type": "markdown",
      "metadata": {
        "id": "view-in-github",
        "colab_type": "text"
      },
      "source": [
        "<a href=\"https://colab.research.google.com/github/Toms201/ISYS2001-Assignment2/blob/main/ISYS2001_ELP_Q1_Currency.ipynb\" target=\"_parent\"><img src=\"https://colab.research.google.com/assets/colab-badge.svg\" alt=\"Open In Colab\"/></a>"
      ]
    },
    {
      "cell_type": "markdown",
      "source": [
        "#Question One - Tourist Currency Converter\n",
        "This notebook contains the design, planning and implementation of the International Currency Converter for the ISYS2001 ELP Question One."
      ],
      "metadata": {
        "id": "R68tB-h3d6_O"
      }
    },
    {
      "cell_type": "markdown",
      "source": [
        "## Step One: State The Problem Clearly\n",
        "\n",
        "The first step of the problem solving methodology is to state the problem clearly.\n",
        "\n",
        "I would define the problem as follows: \n",
        "\n",
        "To Create and deploy an app that assists travellers visiting Australia by converting US dollars or Japanese Yen to Australian dollars. The user should be able to enter a currency and its value, and the computer should subsequently show the value in AUD. With this, the design shopuld be easy tio use, and should allow the user to convert multiple currency ammounts depending on their requiremenets.\n",
        "\n",
        "The design should be implemented in a google coplab notebook, and can run in a variety of ways inclduing directly in the notebook, as a form or as a dedicated application.\n",
        "\n",
        "We also know the following from the design breif:\n",
        "\n",
        "\n",
        "> The current rate of exchange for USD to AUD is: 1 USD = 1.38 AUD.\n",
        "\n",
        "> The current rate of exchange for YEN to AUD is: 1 YEN = 0.010 AUD.\n",
        " From this we can begin to determine a design.\n"
      ],
      "metadata": {
        "id": "nQv9m7xCeL_f"
      }
    },
    {
      "cell_type": "markdown",
      "source": [
        "##Step Two: Describe The Input And Output\n",
        "\n",
        "The second step involves describing the input and output of the application to ensure that its desired functions are met.\n",
        "\n",
        "###Inputs\n",
        "1. Input Currency as a selection.\n",
        "\n",
        "EXAMPLE INPUT: USD, usd, U, u or YEN, yen, Y, y.\n",
        "\n",
        "TYPE: String\n",
        "\n",
        "ERRORS TO BE CAUTIOS OF: Input error, the user enters or selects a currency value other than 'USD' or 'YEN'. USe exception handling to prompt the user to only enter the value as the given string. We could also use a dropdown to limit the users ability to select.\n",
        "\n",
        "2. Dollar amount to convert to AUD.\n",
        "\n",
        "EXAMPLE INPUT: 330.45\n",
        "\n",
        "TYPE: Float (As a number can be of decimal value).\n",
        "\n",
        "ERRORS TO BE CAUTIOS OF: Input error, the user enters a string (str) instead of a float such as 'Three Hundred and Thirty Dollars and Fourty Five Cents' OR if the user enters the dollar/yen symbol ($) with their response. Exception haqndlign can prompt the user to try again.\n"
      ],
      "metadata": {
        "id": "L8u6vro-fTi3"
      }
    },
    {
      "cell_type": "markdown",
      "source": [
        "## STEP THREE: Develop An Algorithm\n",
        "\n",
        "The thrid step in the development process is to define and determine the code that we are going to use to alloew the program to execute. It is vital that the code is well formatted, and contains no errors to ensure smooth operation of the program.\n",
        "\n",
        "To Begin, I will write the program in psudocode to allow for the brainstorming and development of its implkemnetation."
      ],
      "metadata": {
        "id": "B8V0Tinrgoxk"
      }
    },
    {
      "cell_type": "code",
      "source": [
        "\n"
      ],
      "metadata": {
        "id": "SB9XffOUgodc"
      },
      "execution_count": null,
      "outputs": []
    },
    {
      "cell_type": "code",
      "execution_count": 20,
      "metadata": {
        "id": "O8PWsiVsdn90",
        "outputId": "4c3b21df-0cde-4f76-e343-002128c3a491",
        "colab": {
          "base_uri": "https://localhost:8080/"
        }
      },
      "outputs": [
        {
          "output_type": "stream",
          "name": "stdout",
          "text": [
            "Welcome to the Australian Tourist Currency Coverter for USD and YEN!\n",
            "Please Input the Origin Currency as USD or YEN 60\n",
            "Please Imput the Value you wish to convert to AUD 8\n",
            "Your 330.23 USD Is Equal To $ 455.72 Australian Dollars\n"
          ]
        }
      ],
      "source": [
        "def main():\n",
        "  promptcurrency()\n",
        "  promptvalue()\n",
        "  conversion()\n",
        "  summarystats()\n",
        "\n",
        "def promptcurrency():\n",
        "  print('Welcome to the Australian Tourist Currency Coverter for USD and YEN!')\n",
        "  try:\n",
        "    currency = str(input('Please Input the Origin Currency as USD or YEN '))\n",
        "  except ValueError:\n",
        "    print('You did not enter USD or YEN, please try again')\n",
        "\n",
        "def promptvalue():  \n",
        "  try:\n",
        "    origin_value = float(input('Please Imput the Value you wish to convert to AUD '))\n",
        "  except ValueError:\n",
        "    print('please enter your current value as a full or decimal number, e.g. 5.53')\n",
        "\n",
        "usd_rate = 1.38\n",
        "yen_rate = 0.010\n",
        "\n",
        "def conversion():\n",
        "  if currency == 'USD':\n",
        "    aud_value = origin_value * usd_rate\n",
        "    aud_value = str(round(aud_value,2))\n",
        "  elif currency == 'YEN':\n",
        "    aud_value = origin_value * yen_rate\n",
        "    aud_value = str(round(aud_value,2))\n",
        "  else:\n",
        "    print('Your currency does not appear to be valid')\n",
        "\n",
        "def summarystats():\n",
        "  print(\"Your\", origin_value, currency, \"Is Equal To $\", aud_value, \"Australian Dollars\")\n",
        "\n",
        "main()"
      ]
    },
    {
      "cell_type": "code",
      "source": [
        ""
      ],
      "metadata": {
        "id": "csa-sHCpl799"
      },
      "execution_count": null,
      "outputs": []
    }
  ]
}