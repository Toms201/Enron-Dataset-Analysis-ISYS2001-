{
  "nbformat": 4,
  "nbformat_minor": 0,
  "metadata": {
    "colab": {
      "name": "ISYS2001-ELP-Q1 -Currency.ipynb",
      "provenance": [],
      "authorship_tag": "ABX9TyP2ahgBMI7ZLlXSkFr5DX2L",
      "include_colab_link": true
    },
    "kernelspec": {
      "name": "python3",
      "display_name": "Python 3"
    },
    "language_info": {
      "name": "python"
    }
  },
  "cells": [
    {
      "cell_type": "markdown",
      "metadata": {
        "id": "view-in-github",
        "colab_type": "text"
      },
      "source": [
        "<a href=\"https://colab.research.google.com/github/Toms201/ISYS2001-Assignment2/blob/main/ISYS2001_ELP_Q1_Currency.ipynb\" target=\"_parent\"><img src=\"https://colab.research.google.com/assets/colab-badge.svg\" alt=\"Open In Colab\"/></a>"
      ]
    },
    {
      "cell_type": "markdown",
      "source": [
        "#Question One - Tourist Currency Converter\n",
        "This notebook contains the design, planning and implementation of the International Currency Converter for the ISYS2001 ELP Question One."
      ],
      "metadata": {
        "id": "R68tB-h3d6_O"
      }
    },
    {
      "cell_type": "markdown",
      "source": [
        "## Step One: State The Problem Clearly\n",
        "\n",
        "The first step of the problem solving methodology is to state the problem clearly.\n",
        "\n",
        "I would define the problem as follows: \n",
        "\n",
        "To Create and deploy an app that assists travellers visiting Australia by converting US dollars or Japanese Yen to Australian dollars. The user should be able to enter a currency and its value, and the computer should subsequently show the value in AUD. With this, the design shopuld be easy tio use, and should allow the user to convert multiple currency ammounts depending on their requiremenets.\n",
        "\n",
        "The design should be implemented in a google coplab notebook, and can run in a variety of ways inclduing directly in the notebook, as a form or as a dedicated application.\n",
        "\n",
        "We also know the following from the design breif:\n",
        "\n",
        "\n",
        "> The current rate of exchange for USD to AUD is: 1 USD = 1.38 AUD.\n",
        "\n",
        "> The current rate of exchange for YEN to AUD is: 1 YEN = 0.010 AUD.\n",
        " From this we can begin to determine a design.\n"
      ],
      "metadata": {
        "id": "nQv9m7xCeL_f"
      }
    },
    {
      "cell_type": "markdown",
      "source": [
        "##Step Two: Describe The Input And Output\n",
        "\n",
        "The second step involves describing the input and output of the application to ensure that its desired functions are met.\n",
        "\n",
        "###Inputs\n",
        "1. Input Currency as a selection.\n",
        "\n",
        "EXAMPLE INPUT: USD, usd, U, u or YEN, yen, Y, y.\n",
        "\n",
        "TYPE: String\n",
        "\n",
        "ERRORS TO BE CAUTIOS OF: Input error, the user enters or selects a currency value other than 'USD' or 'YEN'. USe exception handling to prompt the user to only enter the value as the given string. We could also use a dropdown to limit the users ability to select.\n",
        "\n",
        "2. Dollar amount to convert to AUD.\n",
        "\n",
        "EXAMPLE INPUT: 330.45\n",
        "\n",
        "TYPE: Float (As a number can be of decimal value).\n",
        "\n",
        "ERRORS TO BE CAUTIOS OF: Input error, the user enters a string (str) instead of a float such as 'Three Hundred and Thirty Dollars and Fourty Five Cents' OR if the user enters the dollar/yen symbol ($) with their response. Exception haqndlign can prompt the user to try again.\n"
      ],
      "metadata": {
        "id": "L8u6vro-fTi3"
      }
    },
    {
      "cell_type": "markdown",
      "source": [
        "## STEP THREE: Develop An Algorithm\n",
        "\n",
        "The thrid step in the development process is to define and determine the code that we are going to use to alloew the program to execute. It is vital that the code is well formatted, and contains no errors to ensure smooth operation of the program.\n",
        "\n",
        "To Begin, I will write the program in psudocode to allow for the brainstorming and development of its implkemnetation.\n",
        "\n",
        "\n",
        "### The following is psudocode and is not intended to run.\n",
        "> Print 'Welcome to the Australian Tourist Currency Coverter for USD and YEN!\n",
        ">\n",
        ">Try:\n",
        ">   currency(USD or YEN) should equal the input of the USD or YEN in string value\n",
        "> \n",
        "> Except if it does not:\n",
        "> \n",
        "> print to the console an error messgae.\n",
        ">\n",
        "> Try:\n",
        "> the original currency value in USD or Yen should equal the input of the currency value in float format.\n",
        ">\n",
        "> Except if it does not equal float format:\n",
        ">\n",
        "> print an error message to let the user know\n",
        ">\n",
        ">\n",
        "> Define the usd rate as 1.38 and the Yen rate as 0.010 in respecitve variables.\n",
        ">\n",
        "> if the currency entered is equal to any of USD, usd, u, U then:\n",
        ">\n",
        "> the australian dollar amount will equal the USD value entered multiplied by the USD conversion Rate, then all in string format.\n",
        ">\n",
        "> print the result statement in an easy to read format.\n",
        ">\n",
        "> if else the currency entered is equal to any of YEN, yen, y, Y then:\n",
        ">\n",
        "> the australian dollar amount will equal the YEN value entered multiplied by the Yen conversion Rate, then all in string format.\n",
        ">\n",
        "> print the result statement in an easy to read format.\n",
        ">\n",
        "> else the currency type is not USD or YEN then present an error message\n",
        "\n",
        "\n",
        "\n"
      ],
      "metadata": {
        "id": "B8V0Tinrgoxk"
      }
    },
    {
      "cell_type": "code",
      "source": [
        "print('Welcome to the Australian Tourist Currency Coverter for USD and YEN!')\n",
        "try:\n",
        "  currency = str(input('Please Input the Origin Currency as USD or YEN '))\n",
        "except ValueError:\n",
        "  print('You did not enter USD or YEN, please try again')\n",
        "\n",
        "try:\n",
        "  origin_value = float(input('Please Imput the Value you wish to convert to AUD '))\n",
        "except ValueError:\n",
        "  print('please enter your current value as a full or decimal number, e.g. 5.53')\n",
        "\n",
        "usd_rate = 1.38\n",
        "yen_rate = 0.010\n",
        "\n",
        "if currency == 'USD' or 'u' or'U' or'usd':\n",
        "  aud_value = origin_value * usd_rate\n",
        "  aud_value = str(round(aud_value,2))\n",
        "  currency = 'USD'\n",
        "  print(\"Your\", origin_value, currency, \"Is Equal To $\", aud_value, \"Australian Dollars\")\n",
        "elif currency == 'YEN':\n",
        "  aud_value = origin_value * yen_rate\n",
        "  aud_value = str(round(aud_value,2))\n",
        "  currency = 'YEN'\n",
        "  print(\"Your\", origin_value, currency, \"Is Equal To $\", aud_value, \"Australian Dollars\")\n",
        "else:\n",
        "  print('Your currency does not appear to be valid, Please try again')"
      ],
      "metadata": {
        "colab": {
          "base_uri": "https://localhost:8080/"
        },
        "id": "csa-sHCpl799",
        "outputId": "9cd3dddd-296d-49d2-d3c1-b189f3337874"
      },
      "execution_count": 8,
      "outputs": [
        {
          "output_type": "stream",
          "name": "stdout",
          "text": [
            "Welcome to the Australian Tourist Currency Coverter for USD and YEN!\n",
            "Please Input the Origin Currency as USD or YEN u\n",
            "Please Imput the Value you wish to convert to AUD 50\n",
            "Your 50.0 USD Is Equal To $ 69.0 Australian Dollars\n"
          ]
        }
      ]
    },
    {
      "cell_type": "code",
      "execution_count": 24,
      "metadata": {
        "id": "O8PWsiVsdn90",
        "colab": {
          "base_uri": "https://localhost:8080/",
          "height": 568
        },
        "outputId": "65981ccd-de53-479b-e075-0c057bce1cd4"
      },
      "outputs": [
        {
          "output_type": "stream",
          "name": "stdout",
          "text": [
            "Welcome to the Australian Tourist Currency Coverter for USD and YEN!\n"
          ]
        },
        {
          "output_type": "error",
          "ename": "KeyboardInterrupt",
          "evalue": "ignored",
          "traceback": [
            "\u001b[0;31m---------------------------------------------------------------------------\u001b[0m",
            "\u001b[0;31mKeyboardInterrupt\u001b[0m                         Traceback (most recent call last)",
            "\u001b[0;32m/usr/local/lib/python3.7/dist-packages/ipykernel/kernelbase.py\u001b[0m in \u001b[0;36m_input_request\u001b[0;34m(self, prompt, ident, parent, password)\u001b[0m\n\u001b[1;32m    728\u001b[0m             \u001b[0;32mtry\u001b[0m\u001b[0;34m:\u001b[0m\u001b[0;34m\u001b[0m\u001b[0;34m\u001b[0m\u001b[0m\n\u001b[0;32m--> 729\u001b[0;31m                 \u001b[0mident\u001b[0m\u001b[0;34m,\u001b[0m \u001b[0mreply\u001b[0m \u001b[0;34m=\u001b[0m \u001b[0mself\u001b[0m\u001b[0;34m.\u001b[0m\u001b[0msession\u001b[0m\u001b[0;34m.\u001b[0m\u001b[0mrecv\u001b[0m\u001b[0;34m(\u001b[0m\u001b[0mself\u001b[0m\u001b[0;34m.\u001b[0m\u001b[0mstdin_socket\u001b[0m\u001b[0;34m,\u001b[0m \u001b[0;36m0\u001b[0m\u001b[0;34m)\u001b[0m\u001b[0;34m\u001b[0m\u001b[0;34m\u001b[0m\u001b[0m\n\u001b[0m\u001b[1;32m    730\u001b[0m             \u001b[0;32mexcept\u001b[0m \u001b[0mException\u001b[0m\u001b[0;34m:\u001b[0m\u001b[0;34m\u001b[0m\u001b[0;34m\u001b[0m\u001b[0m\n",
            "\u001b[0;32m/usr/local/lib/python3.7/dist-packages/jupyter_client/session.py\u001b[0m in \u001b[0;36mrecv\u001b[0;34m(self, socket, mode, content, copy)\u001b[0m\n\u001b[1;32m    802\u001b[0m         \u001b[0;32mtry\u001b[0m\u001b[0;34m:\u001b[0m\u001b[0;34m\u001b[0m\u001b[0;34m\u001b[0m\u001b[0m\n\u001b[0;32m--> 803\u001b[0;31m             \u001b[0mmsg_list\u001b[0m \u001b[0;34m=\u001b[0m \u001b[0msocket\u001b[0m\u001b[0;34m.\u001b[0m\u001b[0mrecv_multipart\u001b[0m\u001b[0;34m(\u001b[0m\u001b[0mmode\u001b[0m\u001b[0;34m,\u001b[0m \u001b[0mcopy\u001b[0m\u001b[0;34m=\u001b[0m\u001b[0mcopy\u001b[0m\u001b[0;34m)\u001b[0m\u001b[0;34m\u001b[0m\u001b[0;34m\u001b[0m\u001b[0m\n\u001b[0m\u001b[1;32m    804\u001b[0m         \u001b[0;32mexcept\u001b[0m \u001b[0mzmq\u001b[0m\u001b[0;34m.\u001b[0m\u001b[0mZMQError\u001b[0m \u001b[0;32mas\u001b[0m \u001b[0me\u001b[0m\u001b[0;34m:\u001b[0m\u001b[0;34m\u001b[0m\u001b[0;34m\u001b[0m\u001b[0m\n",
            "\u001b[0;32m/usr/local/lib/python3.7/dist-packages/zmq/sugar/socket.py\u001b[0m in \u001b[0;36mrecv_multipart\u001b[0;34m(self, flags, copy, track)\u001b[0m\n\u001b[1;32m    723\u001b[0m         \"\"\"\n\u001b[0;32m--> 724\u001b[0;31m         \u001b[0mparts\u001b[0m \u001b[0;34m=\u001b[0m \u001b[0;34m[\u001b[0m\u001b[0mself\u001b[0m\u001b[0;34m.\u001b[0m\u001b[0mrecv\u001b[0m\u001b[0;34m(\u001b[0m\u001b[0mflags\u001b[0m\u001b[0;34m,\u001b[0m \u001b[0mcopy\u001b[0m\u001b[0;34m=\u001b[0m\u001b[0mcopy\u001b[0m\u001b[0;34m,\u001b[0m \u001b[0mtrack\u001b[0m\u001b[0;34m=\u001b[0m\u001b[0mtrack\u001b[0m\u001b[0;34m)\u001b[0m\u001b[0;34m]\u001b[0m\u001b[0;34m\u001b[0m\u001b[0;34m\u001b[0m\u001b[0m\n\u001b[0m\u001b[1;32m    725\u001b[0m         \u001b[0;31m# have first part already, only loop while more to receive\u001b[0m\u001b[0;34m\u001b[0m\u001b[0;34m\u001b[0m\u001b[0;34m\u001b[0m\u001b[0m\n",
            "\u001b[0;32mzmq/backend/cython/socket.pyx\u001b[0m in \u001b[0;36mzmq.backend.cython.socket.Socket.recv\u001b[0;34m()\u001b[0m\n",
            "\u001b[0;32mzmq/backend/cython/socket.pyx\u001b[0m in \u001b[0;36mzmq.backend.cython.socket.Socket.recv\u001b[0;34m()\u001b[0m\n",
            "\u001b[0;32mzmq/backend/cython/socket.pyx\u001b[0m in \u001b[0;36mzmq.backend.cython.socket._recv_copy\u001b[0;34m()\u001b[0m\n",
            "\u001b[0;32m/usr/local/lib/python3.7/dist-packages/zmq/backend/cython/checkrc.pxd\u001b[0m in \u001b[0;36mzmq.backend.cython.checkrc._check_rc\u001b[0;34m()\u001b[0m\n",
            "\u001b[0;31mKeyboardInterrupt\u001b[0m: ",
            "\nDuring handling of the above exception, another exception occurred:\n",
            "\u001b[0;31mKeyboardInterrupt\u001b[0m                         Traceback (most recent call last)",
            "\u001b[0;32m<ipython-input-24-cc26afd0c718>\u001b[0m in \u001b[0;36m<module>\u001b[0;34m()\u001b[0m\n\u001b[1;32m     34\u001b[0m   \u001b[0mprint\u001b[0m\u001b[0;34m(\u001b[0m\u001b[0;34m\"Your\"\u001b[0m\u001b[0;34m,\u001b[0m \u001b[0morigin_value\u001b[0m\u001b[0;34m,\u001b[0m \u001b[0mcurrency\u001b[0m\u001b[0;34m,\u001b[0m \u001b[0;34m\"Is Equal To $\"\u001b[0m\u001b[0;34m,\u001b[0m \u001b[0maud_value\u001b[0m\u001b[0;34m,\u001b[0m \u001b[0;34m\"Australian Dollars\"\u001b[0m\u001b[0;34m)\u001b[0m\u001b[0;34m\u001b[0m\u001b[0;34m\u001b[0m\u001b[0m\n\u001b[1;32m     35\u001b[0m \u001b[0;34m\u001b[0m\u001b[0m\n\u001b[0;32m---> 36\u001b[0;31m \u001b[0mmain\u001b[0m\u001b[0;34m(\u001b[0m\u001b[0;34m)\u001b[0m\u001b[0;34m\u001b[0m\u001b[0;34m\u001b[0m\u001b[0m\n\u001b[0m",
            "\u001b[0;32m<ipython-input-24-cc26afd0c718>\u001b[0m in \u001b[0;36mmain\u001b[0;34m()\u001b[0m\n\u001b[1;32m      1\u001b[0m \u001b[0;32mdef\u001b[0m \u001b[0mmain\u001b[0m\u001b[0;34m(\u001b[0m\u001b[0;34m)\u001b[0m\u001b[0;34m:\u001b[0m\u001b[0;34m\u001b[0m\u001b[0;34m\u001b[0m\u001b[0m\n\u001b[0;32m----> 2\u001b[0;31m   \u001b[0mpromptcurrency\u001b[0m\u001b[0;34m(\u001b[0m\u001b[0;34m)\u001b[0m\u001b[0;34m\u001b[0m\u001b[0;34m\u001b[0m\u001b[0m\n\u001b[0m\u001b[1;32m      3\u001b[0m   \u001b[0mpromptvalue\u001b[0m\u001b[0;34m(\u001b[0m\u001b[0;34m)\u001b[0m\u001b[0;34m\u001b[0m\u001b[0;34m\u001b[0m\u001b[0m\n\u001b[1;32m      4\u001b[0m   \u001b[0mconversion\u001b[0m\u001b[0;34m(\u001b[0m\u001b[0;34m)\u001b[0m\u001b[0;34m\u001b[0m\u001b[0;34m\u001b[0m\u001b[0m\n\u001b[1;32m      5\u001b[0m   \u001b[0msummarystats\u001b[0m\u001b[0;34m(\u001b[0m\u001b[0;34m)\u001b[0m\u001b[0;34m\u001b[0m\u001b[0;34m\u001b[0m\u001b[0m\n",
            "\u001b[0;32m<ipython-input-24-cc26afd0c718>\u001b[0m in \u001b[0;36mpromptcurrency\u001b[0;34m()\u001b[0m\n\u001b[1;32m      8\u001b[0m   \u001b[0mprint\u001b[0m\u001b[0;34m(\u001b[0m\u001b[0;34m'Welcome to the Australian Tourist Currency Coverter for USD and YEN!'\u001b[0m\u001b[0;34m)\u001b[0m\u001b[0;34m\u001b[0m\u001b[0;34m\u001b[0m\u001b[0m\n\u001b[1;32m      9\u001b[0m   \u001b[0;32mtry\u001b[0m\u001b[0;34m:\u001b[0m\u001b[0;34m\u001b[0m\u001b[0;34m\u001b[0m\u001b[0m\n\u001b[0;32m---> 10\u001b[0;31m     \u001b[0mcurrency\u001b[0m \u001b[0;34m=\u001b[0m \u001b[0mstr\u001b[0m\u001b[0;34m(\u001b[0m\u001b[0minput\u001b[0m\u001b[0;34m(\u001b[0m\u001b[0;34m'Please Input the Origin Currency as USD or YEN '\u001b[0m\u001b[0;34m)\u001b[0m\u001b[0;34m)\u001b[0m\u001b[0;34m\u001b[0m\u001b[0;34m\u001b[0m\u001b[0m\n\u001b[0m\u001b[1;32m     11\u001b[0m   \u001b[0;32mexcept\u001b[0m \u001b[0mValueError\u001b[0m\u001b[0;34m:\u001b[0m\u001b[0;34m\u001b[0m\u001b[0;34m\u001b[0m\u001b[0m\n\u001b[1;32m     12\u001b[0m     \u001b[0mprint\u001b[0m\u001b[0;34m(\u001b[0m\u001b[0;34m'You did not enter USD or YEN, please try again'\u001b[0m\u001b[0;34m)\u001b[0m\u001b[0;34m\u001b[0m\u001b[0;34m\u001b[0m\u001b[0m\n",
            "\u001b[0;32m/usr/local/lib/python3.7/dist-packages/ipykernel/kernelbase.py\u001b[0m in \u001b[0;36mraw_input\u001b[0;34m(self, prompt)\u001b[0m\n\u001b[1;32m    702\u001b[0m             \u001b[0mself\u001b[0m\u001b[0;34m.\u001b[0m\u001b[0m_parent_ident\u001b[0m\u001b[0;34m,\u001b[0m\u001b[0;34m\u001b[0m\u001b[0;34m\u001b[0m\u001b[0m\n\u001b[1;32m    703\u001b[0m             \u001b[0mself\u001b[0m\u001b[0;34m.\u001b[0m\u001b[0m_parent_header\u001b[0m\u001b[0;34m,\u001b[0m\u001b[0;34m\u001b[0m\u001b[0;34m\u001b[0m\u001b[0m\n\u001b[0;32m--> 704\u001b[0;31m             \u001b[0mpassword\u001b[0m\u001b[0;34m=\u001b[0m\u001b[0;32mFalse\u001b[0m\u001b[0;34m,\u001b[0m\u001b[0;34m\u001b[0m\u001b[0;34m\u001b[0m\u001b[0m\n\u001b[0m\u001b[1;32m    705\u001b[0m         )\n\u001b[1;32m    706\u001b[0m \u001b[0;34m\u001b[0m\u001b[0m\n",
            "\u001b[0;32m/usr/local/lib/python3.7/dist-packages/ipykernel/kernelbase.py\u001b[0m in \u001b[0;36m_input_request\u001b[0;34m(self, prompt, ident, parent, password)\u001b[0m\n\u001b[1;32m    732\u001b[0m             \u001b[0;32mexcept\u001b[0m \u001b[0mKeyboardInterrupt\u001b[0m\u001b[0;34m:\u001b[0m\u001b[0;34m\u001b[0m\u001b[0;34m\u001b[0m\u001b[0m\n\u001b[1;32m    733\u001b[0m                 \u001b[0;31m# re-raise KeyboardInterrupt, to truncate traceback\u001b[0m\u001b[0;34m\u001b[0m\u001b[0;34m\u001b[0m\u001b[0;34m\u001b[0m\u001b[0m\n\u001b[0;32m--> 734\u001b[0;31m                 \u001b[0;32mraise\u001b[0m \u001b[0mKeyboardInterrupt\u001b[0m\u001b[0;34m\u001b[0m\u001b[0;34m\u001b[0m\u001b[0m\n\u001b[0m\u001b[1;32m    735\u001b[0m             \u001b[0;32melse\u001b[0m\u001b[0;34m:\u001b[0m\u001b[0;34m\u001b[0m\u001b[0;34m\u001b[0m\u001b[0m\n\u001b[1;32m    736\u001b[0m                 \u001b[0;32mbreak\u001b[0m\u001b[0;34m\u001b[0m\u001b[0;34m\u001b[0m\u001b[0m\n",
            "\u001b[0;31mKeyboardInterrupt\u001b[0m: "
          ]
        }
      ],
      "source": [
        "def main():\n",
        "  promptcurrency()\n",
        "  promptvalue()\n",
        "  conversion()\n",
        "  summarystats()\n",
        "\n",
        "def promptcurrency():\n",
        "  print('Welcome to the Australian Tourist Currency Coverter for USD and YEN!')\n",
        "  try:\n",
        "    currency = str(input('Please Input the Origin Currency as USD or YEN '))\n",
        "  except ValueError:\n",
        "    print('You did not enter USD or YEN, please try again')\n",
        "\n",
        "def promptvalue():  \n",
        "  try:\n",
        "    origin_value = float(input('Please Imput the Value you wish to convert to AUD '))\n",
        "  except ValueError:\n",
        "    print('please enter your current value as a full or decimal number, e.g. 5.53')\n",
        "\n",
        "usd_rate = 1.38\n",
        "yen_rate = 0.010\n",
        "\n",
        "def conversion():\n",
        "  if currency != 'USD':\n",
        "    aud_value = origin_value * usd_rate\n",
        "    aud_value = str(round(aud_value,2))\n",
        "  elif currency != 'YEN':\n",
        "    aud_value = origin_value * yen_rate\n",
        "    aud_value = str(round(aud_value,2))\n",
        "  else:\n",
        "    print('Your currency does not appear to be valid')\n",
        "\n",
        "def summarystats():\n",
        "  print(\"Your\", origin_value, currency, \"Is Equal To $\", aud_value, \"Australian Dollars\")\n",
        "\n",
        "main()"
      ]
    },
    {
      "cell_type": "code",
      "source": [
        ""
      ],
      "metadata": {
        "id": "rdnhLItEqnwl"
      },
      "execution_count": null,
      "outputs": []
    }
  ]
}